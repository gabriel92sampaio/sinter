{
  "nbformat": 4,
  "nbformat_minor": 0,
  "metadata": {
    "accelerator": "GPU",
    "colab": {
      "name": "Predição_RDI_sinter.ipynb",
      "provenance": [],
      "collapsed_sections": [
        "ecl9Y-xNXYqM",
        "zXxQTF-HO4w4",
        "rKTMwnyd2S0b",
        "JXC0NCFZPKSJ",
        "6iOPH5tfj33J",
        "vY0CuhtsTdG4",
        "TlcYM8A9GUui",
        "mFMSrikOD1uF",
        "r0fnj55ay_Y3",
        "VnTCqgej_hHp",
        "bPmv4AelvnmR",
        "D52tX_AinEza",
        "JZcdA9a_uW5d",
        "N86RunPwSvmF",
        "hhi46ns5nBX7"
      ],
      "mount_file_id": "1RCRS_E_pbPUjKgwhGd5Y_XLSG_D7MUDn",
      "authorship_tag": "ABX9TyMMUgiwqicX4LGe6JAziotz",
      "include_colab_link": true
    },
    "kernelspec": {
      "display_name": "Python 3",
      "name": "python3"
    }
  },
  "cells": [
    {
      "cell_type": "markdown",
      "metadata": {
        "id": "view-in-github",
        "colab_type": "text"
      },
      "source": [
        "<a href=\"https://colab.research.google.com/github/gabriel92sampaio/sinter_quality_prediction/blob/main/Predi%C3%A7%C3%A3o_RDI_sinter.ipynb\" target=\"_parent\"><img src=\"https://colab.research.google.com/assets/colab-badge.svg\" alt=\"Open In Colab\"/></a>"
      ]
    },
    {
      "cell_type": "markdown",
      "metadata": {
        "id": "XgDwcjzjxl1g"
      },
      "source": [
        "# Predição de RDI do sínter de minério de ferro\n",
        "\n",
        "\n",
        "1.   Professor: Dr. Daniel Cavalieri e Dr. Adilson Prado\n",
        "2.   Aluno: Me. Gabriel Assis Sampaio\n",
        "3.   Valor de RDI cedido pela ArcelorMittal Tubarão.\n",
        "\n",
        "\n",
        "\n",
        "\n"
      ]
    },
    {
      "cell_type": "markdown",
      "metadata": {
        "id": "vY0CuhtsTdG4"
      },
      "source": [
        "# Tratamento do sinal"
      ]
    },
    {
      "cell_type": "code",
      "metadata": {
        "colab": {
          "base_uri": "https://localhost:8080/"
        },
        "id": "TmWHtIl_1c_l",
        "outputId": "df297cdf-6ee8-4e20-d20e-be4e1b6b8e74"
      },
      "source": [
        "# Importar bibliotecas\n",
        "import pandas as pd\n",
        "import numpy as np\n",
        "from numpy import sort\n",
        "import matplotlib.pyplot as plt\n",
        "import seaborn as sns\n",
        "!pip install rampy\n",
        "import rampy as rp\n",
        "from sklearn.preprocessing import StandardScaler\n",
        "from imblearn.over_sampling import SMOTE\n",
        "from sklearn.calibration import CalibratedClassifierCV\n",
        "from sklearn.model_selection import train_test_split\n",
        "np.random.seed(145)\n",
        "\n",
        "# Carregar o arquivo financial_distress.csv\n",
        "data = pd.read_csv('amostras_ramam_rdi.csv')\n",
        "\n",
        "# Data de cada amostra\n",
        "saida = data[['Data','RDI']]\n",
        "# Retira coluna de datas para treinamento e teste\n",
        "data = data.drop(['Data'], axis = 1)\n",
        "\n",
        "# Divisão de classes 0 (<15) 1 (>=15 & <=20) 2 (>20)\n",
        "group0 = saida['RDI'] >= 15\n",
        "group1 = saida['RDI'] < 15\n",
        "group2 = saida['RDI'] <= 20\n",
        "\n",
        "saida['target'] = saida['RDI'].where(group2, 2) \n",
        "saida['target'].where(group0, 0, inplace = True) \n",
        "saida['target'].where(group1, 1, inplace = True) \n",
        "saida['target'].where(group2, 2, inplace = True) \n",
        "\n",
        "saida = saida.astype({\"target\": int})\n",
        "\n",
        "# Separar dados em vetores de entrada e saída\n",
        "X = np.array(data.loc[:, data.columns != 'RDI'])\n",
        "#RDI classes\n",
        "y = np.array(saida.loc[:,:])"
      ],
      "execution_count": 1,
      "outputs": [
        {
          "output_type": "stream",
          "name": "stdout",
          "text": [
            "Collecting rampy\n",
            "  Downloading rampy-0.4.9-py3-none-any.whl (48 kB)\n",
            "\u001b[K     |████████████████████████████████| 48 kB 726 kB/s \n",
            "\u001b[?25hRequirement already satisfied: scipy in /usr/local/lib/python3.7/dist-packages (from rampy) (1.4.1)\n",
            "Requirement already satisfied: pandas in /usr/local/lib/python3.7/dist-packages (from rampy) (1.1.5)\n",
            "Requirement already satisfied: scikit-learn in /usr/local/lib/python3.7/dist-packages (from rampy) (0.22.2.post1)\n",
            "Requirement already satisfied: numpy>=1.12 in /usr/local/lib/python3.7/dist-packages (from rampy) (1.19.5)\n",
            "Requirement already satisfied: xlrd in /usr/local/lib/python3.7/dist-packages (from rampy) (1.1.0)\n",
            "Requirement already satisfied: python-dateutil>=2.7.3 in /usr/local/lib/python3.7/dist-packages (from pandas->rampy) (2.8.2)\n",
            "Requirement already satisfied: pytz>=2017.2 in /usr/local/lib/python3.7/dist-packages (from pandas->rampy) (2018.9)\n",
            "Requirement already satisfied: six>=1.5 in /usr/local/lib/python3.7/dist-packages (from python-dateutil>=2.7.3->pandas->rampy) (1.15.0)\n",
            "Requirement already satisfied: joblib>=0.11 in /usr/local/lib/python3.7/dist-packages (from scikit-learn->rampy) (1.0.1)\n",
            "Installing collected packages: rampy\n",
            "Successfully installed rampy-0.4.9\n"
          ]
        },
        {
          "output_type": "stream",
          "name": "stderr",
          "text": [
            "/usr/local/lib/python3.7/dist-packages/sklearn/externals/six.py:31: FutureWarning: The module is deprecated in version 0.21 and will be removed in version 0.23 since we've dropped support for Python 2.7. Please rely on the official version of six (https://pypi.org/project/six/).\n",
            "  \"(https://pypi.org/project/six/).\", FutureWarning)\n",
            "/usr/local/lib/python3.7/dist-packages/sklearn/utils/deprecation.py:144: FutureWarning: The sklearn.neighbors.base module is  deprecated in version 0.22 and will be removed in version 0.24. The corresponding classes / functions should instead be imported from sklearn.neighbors. Anything that cannot be imported from sklearn.neighbors is now part of the private API.\n",
            "  warnings.warn(message, FutureWarning)\n"
          ]
        }
      ]
    },
    {
      "cell_type": "code",
      "metadata": {
        "colab": {
          "base_uri": "https://localhost:8080/",
          "height": 0
        },
        "id": "5sDvv2l_1ntI",
        "outputId": "d28e8c98-59c6-4d97-958d-bb840c208b00"
      },
      "source": [
        "data.head()"
      ],
      "execution_count": 2,
      "outputs": [
        {
          "output_type": "execute_result",
          "data": {
            "text/html": [
              "<div>\n",
              "<style scoped>\n",
              "    .dataframe tbody tr th:only-of-type {\n",
              "        vertical-align: middle;\n",
              "    }\n",
              "\n",
              "    .dataframe tbody tr th {\n",
              "        vertical-align: top;\n",
              "    }\n",
              "\n",
              "    .dataframe thead th {\n",
              "        text-align: right;\n",
              "    }\n",
              "</style>\n",
              "<table border=\"1\" class=\"dataframe\">\n",
              "  <thead>\n",
              "    <tr style=\"text-align: right;\">\n",
              "      <th></th>\n",
              "      <th>400</th>\n",
              "      <th>401</th>\n",
              "      <th>402</th>\n",
              "      <th>403</th>\n",
              "      <th>404</th>\n",
              "      <th>405</th>\n",
              "      <th>406</th>\n",
              "      <th>407</th>\n",
              "      <th>408</th>\n",
              "      <th>409</th>\n",
              "      <th>410</th>\n",
              "      <th>411</th>\n",
              "      <th>412</th>\n",
              "      <th>413</th>\n",
              "      <th>414</th>\n",
              "      <th>415</th>\n",
              "      <th>416</th>\n",
              "      <th>417</th>\n",
              "      <th>418</th>\n",
              "      <th>419</th>\n",
              "      <th>420</th>\n",
              "      <th>421</th>\n",
              "      <th>422</th>\n",
              "      <th>423</th>\n",
              "      <th>424</th>\n",
              "      <th>425</th>\n",
              "      <th>426</th>\n",
              "      <th>427</th>\n",
              "      <th>428</th>\n",
              "      <th>429</th>\n",
              "      <th>430</th>\n",
              "      <th>431</th>\n",
              "      <th>432</th>\n",
              "      <th>433</th>\n",
              "      <th>434</th>\n",
              "      <th>435</th>\n",
              "      <th>436</th>\n",
              "      <th>437</th>\n",
              "      <th>438</th>\n",
              "      <th>439</th>\n",
              "      <th>...</th>\n",
              "      <th>2262</th>\n",
              "      <th>2263</th>\n",
              "      <th>2264</th>\n",
              "      <th>2265</th>\n",
              "      <th>2266</th>\n",
              "      <th>2267</th>\n",
              "      <th>2268</th>\n",
              "      <th>2269</th>\n",
              "      <th>2270</th>\n",
              "      <th>2271</th>\n",
              "      <th>2272</th>\n",
              "      <th>2273</th>\n",
              "      <th>2274</th>\n",
              "      <th>2275</th>\n",
              "      <th>2276</th>\n",
              "      <th>2277</th>\n",
              "      <th>2278</th>\n",
              "      <th>2279</th>\n",
              "      <th>2280</th>\n",
              "      <th>2281</th>\n",
              "      <th>2282</th>\n",
              "      <th>2283</th>\n",
              "      <th>2284</th>\n",
              "      <th>2285</th>\n",
              "      <th>2286</th>\n",
              "      <th>2287</th>\n",
              "      <th>2288</th>\n",
              "      <th>2289</th>\n",
              "      <th>2290</th>\n",
              "      <th>2291</th>\n",
              "      <th>2292</th>\n",
              "      <th>2293</th>\n",
              "      <th>2294</th>\n",
              "      <th>2295</th>\n",
              "      <th>2296</th>\n",
              "      <th>2297</th>\n",
              "      <th>2298</th>\n",
              "      <th>2299</th>\n",
              "      <th>2300</th>\n",
              "      <th>RDI</th>\n",
              "    </tr>\n",
              "  </thead>\n",
              "  <tbody>\n",
              "    <tr>\n",
              "      <th>0</th>\n",
              "      <td>958.78</td>\n",
              "      <td>984.32</td>\n",
              "      <td>1008.21</td>\n",
              "      <td>1026.80</td>\n",
              "      <td>1045.32</td>\n",
              "      <td>1063.76</td>\n",
              "      <td>1081.49</td>\n",
              "      <td>1091.15</td>\n",
              "      <td>1100.78</td>\n",
              "      <td>1110.36</td>\n",
              "      <td>1119.91</td>\n",
              "      <td>1112.04</td>\n",
              "      <td>1102.71</td>\n",
              "      <td>1093.43</td>\n",
              "      <td>1084.19</td>\n",
              "      <td>1063.90</td>\n",
              "      <td>1040.48</td>\n",
              "      <td>1017.16</td>\n",
              "      <td>993.93</td>\n",
              "      <td>988.46</td>\n",
              "      <td>993.22</td>\n",
              "      <td>997.96</td>\n",
              "      <td>1002.68</td>\n",
              "      <td>1006.77</td>\n",
              "      <td>1010.22</td>\n",
              "      <td>1013.66</td>\n",
              "      <td>1017.09</td>\n",
              "      <td>1020.26</td>\n",
              "      <td>1023.00</td>\n",
              "      <td>1025.73</td>\n",
              "      <td>1028.44</td>\n",
              "      <td>1026.89</td>\n",
              "      <td>1011.81</td>\n",
              "      <td>996.78</td>\n",
              "      <td>981.81</td>\n",
              "      <td>969.90</td>\n",
              "      <td>980.64</td>\n",
              "      <td>991.34</td>\n",
              "      <td>1002.01</td>\n",
              "      <td>1012.61</td>\n",
              "      <td>...</td>\n",
              "      <td>462.55</td>\n",
              "      <td>444.97</td>\n",
              "      <td>427.30</td>\n",
              "      <td>419.97</td>\n",
              "      <td>412.74</td>\n",
              "      <td>385.52</td>\n",
              "      <td>353.98</td>\n",
              "      <td>374.93</td>\n",
              "      <td>422.20</td>\n",
              "      <td>427.10</td>\n",
              "      <td>391.46</td>\n",
              "      <td>359.37</td>\n",
              "      <td>333.75</td>\n",
              "      <td>308.49</td>\n",
              "      <td>284.87</td>\n",
              "      <td>261.01</td>\n",
              "      <td>234.86</td>\n",
              "      <td>208.60</td>\n",
              "      <td>219.36</td>\n",
              "      <td>233.43</td>\n",
              "      <td>217.04</td>\n",
              "      <td>191.81</td>\n",
              "      <td>191.86</td>\n",
              "      <td>206.27</td>\n",
              "      <td>211.57</td>\n",
              "      <td>207.83</td>\n",
              "      <td>182.98</td>\n",
              "      <td>122.10</td>\n",
              "      <td>78.62</td>\n",
              "      <td>90.89</td>\n",
              "      <td>97.51</td>\n",
              "      <td>59.33</td>\n",
              "      <td>20.98</td>\n",
              "      <td>100.53</td>\n",
              "      <td>181.79</td>\n",
              "      <td>135.45</td>\n",
              "      <td>69.25</td>\n",
              "      <td>30.10</td>\n",
              "      <td>2.00</td>\n",
              "      <td>14.90</td>\n",
              "    </tr>\n",
              "    <tr>\n",
              "      <th>1</th>\n",
              "      <td>760.81</td>\n",
              "      <td>760.40</td>\n",
              "      <td>769.35</td>\n",
              "      <td>809.60</td>\n",
              "      <td>849.69</td>\n",
              "      <td>889.61</td>\n",
              "      <td>925.83</td>\n",
              "      <td>916.91</td>\n",
              "      <td>908.02</td>\n",
              "      <td>899.17</td>\n",
              "      <td>890.35</td>\n",
              "      <td>892.37</td>\n",
              "      <td>895.29</td>\n",
              "      <td>898.20</td>\n",
              "      <td>901.10</td>\n",
              "      <td>905.02</td>\n",
              "      <td>909.22</td>\n",
              "      <td>913.41</td>\n",
              "      <td>917.58</td>\n",
              "      <td>907.43</td>\n",
              "      <td>889.08</td>\n",
              "      <td>870.80</td>\n",
              "      <td>852.59</td>\n",
              "      <td>850.55</td>\n",
              "      <td>864.75</td>\n",
              "      <td>878.90</td>\n",
              "      <td>893.00</td>\n",
              "      <td>903.10</td>\n",
              "      <td>906.34</td>\n",
              "      <td>909.57</td>\n",
              "      <td>912.79</td>\n",
              "      <td>916.76</td>\n",
              "      <td>923.14</td>\n",
              "      <td>929.49</td>\n",
              "      <td>935.83</td>\n",
              "      <td>940.98</td>\n",
              "      <td>937.41</td>\n",
              "      <td>933.85</td>\n",
              "      <td>930.31</td>\n",
              "      <td>926.78</td>\n",
              "      <td>...</td>\n",
              "      <td>320.62</td>\n",
              "      <td>305.34</td>\n",
              "      <td>290.00</td>\n",
              "      <td>280.01</td>\n",
              "      <td>270.04</td>\n",
              "      <td>317.28</td>\n",
              "      <td>376.81</td>\n",
              "      <td>337.26</td>\n",
              "      <td>248.04</td>\n",
              "      <td>211.54</td>\n",
              "      <td>225.49</td>\n",
              "      <td>231.31</td>\n",
              "      <td>222.56</td>\n",
              "      <td>205.73</td>\n",
              "      <td>158.49</td>\n",
              "      <td>115.99</td>\n",
              "      <td>146.87</td>\n",
              "      <td>177.88</td>\n",
              "      <td>130.29</td>\n",
              "      <td>75.55</td>\n",
              "      <td>69.38</td>\n",
              "      <td>77.18</td>\n",
              "      <td>93.34</td>\n",
              "      <td>114.29</td>\n",
              "      <td>113.33</td>\n",
              "      <td>90.62</td>\n",
              "      <td>76.94</td>\n",
              "      <td>78.77</td>\n",
              "      <td>75.20</td>\n",
              "      <td>54.50</td>\n",
              "      <td>34.41</td>\n",
              "      <td>2.00</td>\n",
              "      <td>2.00</td>\n",
              "      <td>31.81</td>\n",
              "      <td>59.29</td>\n",
              "      <td>33.78</td>\n",
              "      <td>2.00</td>\n",
              "      <td>2.00</td>\n",
              "      <td>50.57</td>\n",
              "      <td>12.05</td>\n",
              "    </tr>\n",
              "    <tr>\n",
              "      <th>2</th>\n",
              "      <td>955.58</td>\n",
              "      <td>955.01</td>\n",
              "      <td>957.95</td>\n",
              "      <td>972.61</td>\n",
              "      <td>987.20</td>\n",
              "      <td>1001.73</td>\n",
              "      <td>1015.93</td>\n",
              "      <td>1026.54</td>\n",
              "      <td>1037.10</td>\n",
              "      <td>1047.62</td>\n",
              "      <td>1058.10</td>\n",
              "      <td>1056.53</td>\n",
              "      <td>1053.94</td>\n",
              "      <td>1051.37</td>\n",
              "      <td>1048.81</td>\n",
              "      <td>1036.07</td>\n",
              "      <td>1020.44</td>\n",
              "      <td>1004.87</td>\n",
              "      <td>989.36</td>\n",
              "      <td>983.14</td>\n",
              "      <td>982.28</td>\n",
              "      <td>981.42</td>\n",
              "      <td>980.56</td>\n",
              "      <td>986.02</td>\n",
              "      <td>997.81</td>\n",
              "      <td>1009.57</td>\n",
              "      <td>1021.28</td>\n",
              "      <td>1033.08</td>\n",
              "      <td>1045.06</td>\n",
              "      <td>1056.99</td>\n",
              "      <td>1068.88</td>\n",
              "      <td>1076.30</td>\n",
              "      <td>1069.60</td>\n",
              "      <td>1062.93</td>\n",
              "      <td>1056.28</td>\n",
              "      <td>1050.57</td>\n",
              "      <td>1051.68</td>\n",
              "      <td>1052.78</td>\n",
              "      <td>1053.89</td>\n",
              "      <td>1054.98</td>\n",
              "      <td>...</td>\n",
              "      <td>525.65</td>\n",
              "      <td>570.61</td>\n",
              "      <td>615.76</td>\n",
              "      <td>542.25</td>\n",
              "      <td>466.89</td>\n",
              "      <td>428.24</td>\n",
              "      <td>397.23</td>\n",
              "      <td>413.37</td>\n",
              "      <td>453.14</td>\n",
              "      <td>443.14</td>\n",
              "      <td>385.53</td>\n",
              "      <td>351.89</td>\n",
              "      <td>361.26</td>\n",
              "      <td>372.39</td>\n",
              "      <td>390.03</td>\n",
              "      <td>406.15</td>\n",
              "      <td>398.60</td>\n",
              "      <td>391.03</td>\n",
              "      <td>302.94</td>\n",
              "      <td>207.36</td>\n",
              "      <td>246.22</td>\n",
              "      <td>323.92</td>\n",
              "      <td>341.70</td>\n",
              "      <td>325.46</td>\n",
              "      <td>295.71</td>\n",
              "      <td>252.55</td>\n",
              "      <td>228.09</td>\n",
              "      <td>235.68</td>\n",
              "      <td>240.28</td>\n",
              "      <td>235.37</td>\n",
              "      <td>232.41</td>\n",
              "      <td>244.85</td>\n",
              "      <td>257.36</td>\n",
              "      <td>261.40</td>\n",
              "      <td>265.36</td>\n",
              "      <td>201.12</td>\n",
              "      <td>126.12</td>\n",
              "      <td>61.42</td>\n",
              "      <td>2.00</td>\n",
              "      <td>11.28</td>\n",
              "    </tr>\n",
              "    <tr>\n",
              "      <th>3</th>\n",
              "      <td>848.81</td>\n",
              "      <td>876.45</td>\n",
              "      <td>899.45</td>\n",
              "      <td>907.20</td>\n",
              "      <td>914.91</td>\n",
              "      <td>922.59</td>\n",
              "      <td>929.87</td>\n",
              "      <td>932.39</td>\n",
              "      <td>934.91</td>\n",
              "      <td>937.41</td>\n",
              "      <td>939.90</td>\n",
              "      <td>943.29</td>\n",
              "      <td>946.75</td>\n",
              "      <td>950.20</td>\n",
              "      <td>953.63</td>\n",
              "      <td>953.85</td>\n",
              "      <td>953.15</td>\n",
              "      <td>952.45</td>\n",
              "      <td>951.75</td>\n",
              "      <td>949.43</td>\n",
              "      <td>946.18</td>\n",
              "      <td>942.95</td>\n",
              "      <td>939.73</td>\n",
              "      <td>935.68</td>\n",
              "      <td>930.79</td>\n",
              "      <td>925.92</td>\n",
              "      <td>921.07</td>\n",
              "      <td>923.50</td>\n",
              "      <td>938.50</td>\n",
              "      <td>953.43</td>\n",
              "      <td>968.32</td>\n",
              "      <td>978.48</td>\n",
              "      <td>973.81</td>\n",
              "      <td>969.16</td>\n",
              "      <td>964.52</td>\n",
              "      <td>959.04</td>\n",
              "      <td>947.12</td>\n",
              "      <td>935.24</td>\n",
              "      <td>923.41</td>\n",
              "      <td>911.64</td>\n",
              "      <td>...</td>\n",
              "      <td>323.95</td>\n",
              "      <td>358.17</td>\n",
              "      <td>392.53</td>\n",
              "      <td>536.23</td>\n",
              "      <td>681.96</td>\n",
              "      <td>675.36</td>\n",
              "      <td>636.47</td>\n",
              "      <td>510.91</td>\n",
              "      <td>341.71</td>\n",
              "      <td>255.94</td>\n",
              "      <td>250.01</td>\n",
              "      <td>245.50</td>\n",
              "      <td>243.56</td>\n",
              "      <td>235.90</td>\n",
              "      <td>206.67</td>\n",
              "      <td>182.79</td>\n",
              "      <td>240.09</td>\n",
              "      <td>297.64</td>\n",
              "      <td>271.46</td>\n",
              "      <td>237.76</td>\n",
              "      <td>177.08</td>\n",
              "      <td>108.45</td>\n",
              "      <td>88.03</td>\n",
              "      <td>94.99</td>\n",
              "      <td>120.34</td>\n",
              "      <td>163.97</td>\n",
              "      <td>184.29</td>\n",
              "      <td>164.67</td>\n",
              "      <td>133.34</td>\n",
              "      <td>65.12</td>\n",
              "      <td>2.00</td>\n",
              "      <td>30.66</td>\n",
              "      <td>54.39</td>\n",
              "      <td>42.21</td>\n",
              "      <td>29.56</td>\n",
              "      <td>2.00</td>\n",
              "      <td>2.00</td>\n",
              "      <td>22.37</td>\n",
              "      <td>57.46</td>\n",
              "      <td>14.03</td>\n",
              "    </tr>\n",
              "    <tr>\n",
              "      <th>4</th>\n",
              "      <td>895.21</td>\n",
              "      <td>914.02</td>\n",
              "      <td>926.88</td>\n",
              "      <td>920.06</td>\n",
              "      <td>913.27</td>\n",
              "      <td>906.50</td>\n",
              "      <td>902.03</td>\n",
              "      <td>926.22</td>\n",
              "      <td>950.33</td>\n",
              "      <td>974.34</td>\n",
              "      <td>998.25</td>\n",
              "      <td>997.68</td>\n",
              "      <td>995.03</td>\n",
              "      <td>992.40</td>\n",
              "      <td>989.78</td>\n",
              "      <td>985.66</td>\n",
              "      <td>981.12</td>\n",
              "      <td>976.59</td>\n",
              "      <td>972.08</td>\n",
              "      <td>968.75</td>\n",
              "      <td>966.09</td>\n",
              "      <td>963.45</td>\n",
              "      <td>960.81</td>\n",
              "      <td>954.67</td>\n",
              "      <td>944.99</td>\n",
              "      <td>935.36</td>\n",
              "      <td>925.76</td>\n",
              "      <td>925.30</td>\n",
              "      <td>940.56</td>\n",
              "      <td>955.78</td>\n",
              "      <td>970.93</td>\n",
              "      <td>981.86</td>\n",
              "      <td>979.46</td>\n",
              "      <td>977.08</td>\n",
              "      <td>974.71</td>\n",
              "      <td>972.84</td>\n",
              "      <td>974.65</td>\n",
              "      <td>976.45</td>\n",
              "      <td>978.24</td>\n",
              "      <td>980.04</td>\n",
              "      <td>...</td>\n",
              "      <td>407.39</td>\n",
              "      <td>426.90</td>\n",
              "      <td>446.50</td>\n",
              "      <td>425.56</td>\n",
              "      <td>403.99</td>\n",
              "      <td>437.38</td>\n",
              "      <td>482.53</td>\n",
              "      <td>439.98</td>\n",
              "      <td>353.44</td>\n",
              "      <td>317.69</td>\n",
              "      <td>330.52</td>\n",
              "      <td>319.73</td>\n",
              "      <td>266.70</td>\n",
              "      <td>227.94</td>\n",
              "      <td>243.67</td>\n",
              "      <td>256.96</td>\n",
              "      <td>233.09</td>\n",
              "      <td>209.11</td>\n",
              "      <td>191.34</td>\n",
              "      <td>174.04</td>\n",
              "      <td>176.41</td>\n",
              "      <td>184.45</td>\n",
              "      <td>190.60</td>\n",
              "      <td>195.69</td>\n",
              "      <td>197.15</td>\n",
              "      <td>195.02</td>\n",
              "      <td>186.07</td>\n",
              "      <td>165.51</td>\n",
              "      <td>147.58</td>\n",
              "      <td>138.20</td>\n",
              "      <td>123.88</td>\n",
              "      <td>71.22</td>\n",
              "      <td>2.00</td>\n",
              "      <td>24.17</td>\n",
              "      <td>30.72</td>\n",
              "      <td>37.72</td>\n",
              "      <td>44.81</td>\n",
              "      <td>26.70</td>\n",
              "      <td>2.00</td>\n",
              "      <td>14.83</td>\n",
              "    </tr>\n",
              "  </tbody>\n",
              "</table>\n",
              "<p>5 rows × 1902 columns</p>\n",
              "</div>"
            ],
            "text/plain": [
              "      400     401      402      403  ...    2298   2299   2300    RDI\n",
              "0  958.78  984.32  1008.21  1026.80  ...   69.25  30.10   2.00  14.90\n",
              "1  760.81  760.40   769.35   809.60  ...    2.00   2.00  50.57  12.05\n",
              "2  955.58  955.01   957.95   972.61  ...  126.12  61.42   2.00  11.28\n",
              "3  848.81  876.45   899.45   907.20  ...    2.00  22.37  57.46  14.03\n",
              "4  895.21  914.02   926.88   920.06  ...   44.81  26.70   2.00  14.83\n",
              "\n",
              "[5 rows x 1902 columns]"
            ]
          },
          "metadata": {},
          "execution_count": 2
        }
      ]
    },
    {
      "cell_type": "code",
      "metadata": {
        "colab": {
          "base_uri": "https://localhost:8080/",
          "height": 0
        },
        "id": "D6jMo1hq1qmf",
        "outputId": "9d5b8753-62c0-4ad9-8297-d1466c35bd29"
      },
      "source": [
        "saida.head()"
      ],
      "execution_count": 3,
      "outputs": [
        {
          "output_type": "execute_result",
          "data": {
            "text/html": [
              "<div>\n",
              "<style scoped>\n",
              "    .dataframe tbody tr th:only-of-type {\n",
              "        vertical-align: middle;\n",
              "    }\n",
              "\n",
              "    .dataframe tbody tr th {\n",
              "        vertical-align: top;\n",
              "    }\n",
              "\n",
              "    .dataframe thead th {\n",
              "        text-align: right;\n",
              "    }\n",
              "</style>\n",
              "<table border=\"1\" class=\"dataframe\">\n",
              "  <thead>\n",
              "    <tr style=\"text-align: right;\">\n",
              "      <th></th>\n",
              "      <th>Data</th>\n",
              "      <th>RDI</th>\n",
              "      <th>target</th>\n",
              "    </tr>\n",
              "  </thead>\n",
              "  <tbody>\n",
              "    <tr>\n",
              "      <th>0</th>\n",
              "      <td>8/26/2019</td>\n",
              "      <td>14.90</td>\n",
              "      <td>0</td>\n",
              "    </tr>\n",
              "    <tr>\n",
              "      <th>1</th>\n",
              "      <td>8/27/2019</td>\n",
              "      <td>12.05</td>\n",
              "      <td>0</td>\n",
              "    </tr>\n",
              "    <tr>\n",
              "      <th>2</th>\n",
              "      <td>8/28/2019</td>\n",
              "      <td>11.28</td>\n",
              "      <td>0</td>\n",
              "    </tr>\n",
              "    <tr>\n",
              "      <th>3</th>\n",
              "      <td>8/29/2019</td>\n",
              "      <td>14.03</td>\n",
              "      <td>0</td>\n",
              "    </tr>\n",
              "    <tr>\n",
              "      <th>4</th>\n",
              "      <td>8/30/2019</td>\n",
              "      <td>14.83</td>\n",
              "      <td>0</td>\n",
              "    </tr>\n",
              "  </tbody>\n",
              "</table>\n",
              "</div>"
            ],
            "text/plain": [
              "        Data    RDI  target\n",
              "0  8/26/2019  14.90       0\n",
              "1  8/27/2019  12.05       0\n",
              "2  8/28/2019  11.28       0\n",
              "3  8/29/2019  14.03       0\n",
              "4  8/30/2019  14.83       0"
            ]
          },
          "metadata": {},
          "execution_count": 3
        }
      ]
    },
    {
      "cell_type": "code",
      "metadata": {
        "colab": {
          "base_uri": "https://localhost:8080/"
        },
        "id": "uMwiA6BE1tpB",
        "outputId": "c807e23c-30df-4073-841d-ba245af99834"
      },
      "source": [
        "saida['target'].value_counts(sort=False)"
      ],
      "execution_count": 4,
      "outputs": [
        {
          "output_type": "execute_result",
          "data": {
            "text/plain": [
              "0    57\n",
              "1    22\n",
              "2    27\n",
              "Name: target, dtype: int64"
            ]
          },
          "metadata": {},
          "execution_count": 4
        }
      ]
    },
    {
      "cell_type": "code",
      "metadata": {
        "id": "Kxk64B8s1vWS"
      },
      "source": [
        "# Dividir datasets de treino e teste\n",
        "from sklearn.model_selection import train_test_split\n",
        "X_treino, X_teste, y_treino, y_teste = train_test_split(X, y, test_size = 0.20, random_state = 2, shuffle = True, stratify = y[:,2].astype('int'))"
      ],
      "execution_count": 5,
      "outputs": []
    },
    {
      "cell_type": "markdown",
      "metadata": {
        "id": "dSS2fBMGlEXY"
      },
      "source": [
        "Linha de base"
      ]
    },
    {
      "cell_type": "code",
      "metadata": {
        "id": "n4PbPOGKZvJd"
      },
      "source": [
        "amostra = 5"
      ],
      "execution_count": 6,
      "outputs": []
    },
    {
      "cell_type": "code",
      "metadata": {
        "id": "FtA36iZh4pTj"
      },
      "source": [
        "#Tirar linha de base\n",
        "y0 = X_treino[amostra]  #Espectro original\n",
        "eixo_hor = np.array(data.columns[:-1])\n",
        "X_treated1 = X_treino.copy()\n",
        "for i in range(len(X_treated1)):\n",
        "  Xout1, bas = rp.baseline(eixo_hor, X_treino[i], np.array([[min(eixo_hor), max(eixo_hor)]]), 'arPLS')\n",
        "  X_treated1[i] = Xout1.reshape(1,1901)\n",
        "y1 = np.array(X_treated1[amostra]) #Espectro sem linha de base"
      ],
      "execution_count": 7,
      "outputs": []
    },
    {
      "cell_type": "markdown",
      "metadata": {
        "id": "wdFMn4r_K1nh"
      },
      "source": [
        "Remover picos cósmicos"
      ]
    },
    {
      "cell_type": "code",
      "metadata": {
        "id": "6heIyJA4K1VQ"
      },
      "source": [
        "#Remover picos cósmicos\n",
        "X_treated2 = X_treino.copy()\n",
        "wavelength = np.array(data.columns[:-1])\n",
        "def modified_z_score(intensity):\n",
        " median_int = np.median(intensity)\n",
        " mad_int = np.median([np.abs(intensity - median_int)])\n",
        " modified_z_scores = 0.6745 * (intensity - median_int) / mad_int\n",
        " return modified_z_scores\n",
        "def fixer(y,m):\n",
        " threshold = 7 # binarization threshold. \n",
        " spikes = abs(np.array(modified_z_score(np.diff(y)))) > threshold\n",
        " y_out = y.copy() # So we don’t overwrite y\n",
        " for i in np.arange(len(spikes)):\n",
        "    if spikes[i] != 0: # If we have an spike in position i\n",
        "      if i < (len(spikes)-(m+1)):\n",
        "        if i > (m):\n",
        "          w = np.arange(i-m,i+1+m) # we select 2 m + 1 points around our spike\n",
        "          w2 = w[spikes[w] == 0] # From such interval, we choose the ones which are not spikes\n",
        "          y_out[i] = np.mean(y[w2]) # and we average their values\n",
        " return y_out\n",
        "for i in range(len(X_treated2)):\n",
        "  intensity = np.array(X_treated1[i])\n",
        "  X_treated2[i] = fixer(intensity,m=3)\n",
        "y2 = np.array(X_treated2[amostra]) #Espectro sem picos cósmicos"
      ],
      "execution_count": 8,
      "outputs": []
    },
    {
      "cell_type": "markdown",
      "metadata": {
        "id": "jenl2lPolGgB"
      },
      "source": [
        "Suavização"
      ]
    },
    {
      "cell_type": "code",
      "metadata": {
        "id": "Zb5H-x22lAjT"
      },
      "source": [
        "#Suavização\n",
        "X_treated3 = X_treino.copy()\n",
        "for i in range(len(X_treated3)):\n",
        "  Xout2 = rp.smooth(eixo_hor,X_treated2[i], method=\"savgol\")\n",
        "  X_treated3[i] = Xout2.reshape(1,1901)\n",
        "y3 = np.array(X_treated3[amostra]) #Espectro suavizado"
      ],
      "execution_count": 9,
      "outputs": []
    },
    {
      "cell_type": "markdown",
      "metadata": {
        "id": "Sg8ZeUugSiDU"
      },
      "source": [
        "**Normalização dos dados**"
      ]
    },
    {
      "cell_type": "code",
      "metadata": {
        "id": "1AX2BPJKpuZc"
      },
      "source": [
        "#Padronização\n",
        "scaler = StandardScaler()\n",
        "X_treino_std = scaler.fit_transform(X_treated3)\n",
        "y4 = np.array(X_treino_std[amostra]) #Espectro normalizado"
      ],
      "execution_count": 10,
      "outputs": []
    },
    {
      "cell_type": "markdown",
      "metadata": {
        "id": "sHfBWecgCTd2"
      },
      "source": [
        "**Gráfico de espectros**"
      ]
    },
    {
      "cell_type": "code",
      "metadata": {
        "colab": {
          "base_uri": "https://localhost:8080/",
          "height": 0
        },
        "id": "jzMmk9f4Wzqk",
        "outputId": "74dadbf4-7108-4efc-8325-431ed84826ee"
      },
      "source": [
        "x = np.arange(400, 2301, 1)\n",
        "# plot with various axes scales\n",
        "sns.set_style(style=\"white\") \n",
        "plt.figure(figsize=[15,10])\n",
        "\n",
        "plt.subplot(321)\n",
        "plt.plot(x, y0)\n",
        "plt.ylabel('Intensity')\n",
        "plt.xlabel('wavelength (1/cm)')\n",
        "plt.title('(a) Original')\n",
        "\n",
        "plt.subplot(322)\n",
        "plt.plot(x, y1)\n",
        "plt.ylabel('Intensity')\n",
        "plt.xlabel('wavelength (1/cm)')\n",
        "plt.title('(b) Baseline removed')\n",
        "\n",
        "plt.subplot(323)\n",
        "plt.plot(x, y2)\n",
        "plt.ylabel('Intensity')\n",
        "plt.xlabel('wavelength (1/cm)')\n",
        "plt.title('(c) Despiked')\n",
        "\n",
        "plt.subplot(324)\n",
        "plt.plot(x, y3)\n",
        "plt.ylabel('Intensity')\n",
        "plt.xlabel('wavelength (1/cm)')\n",
        "plt.title('(d) Smoothed out')\n",
        "\n",
        "plt.subplot(325)\n",
        "plt.plot(x, y4)\n",
        "plt.ylabel('Intensity')\n",
        "plt.xlabel('wavelength (1/cm)')\n",
        "plt.title('(e) Standardized')\n",
        "\n",
        "plt.subplots_adjust(top=0.92, bottom=0.08, left=0.10, right=0.95, hspace=0.3,\n",
        "                    wspace=0.2)\n",
        "\n",
        "plt.show()"
      ],
      "execution_count": 11,
      "outputs": [
        {
          "output_type": "display_data",
          "data": {
            "image/png": "[encoded data removed]",
            "text/plain": [
              "<Figure size 1080x720 with 5 Axes>"
            ]
          },
          "metadata": {}
        }
      ]
    },
    {
      "cell_type": "markdown",
      "metadata": {
        "id": "YFj21WN5upWj"
      },
      "source": [
        "# Classificação de sinter em 3 classes de acordo com o RDI"
      ]
    },
    {
      "cell_type": "code",
      "metadata": {
        "colab": {
          "base_uri": "https://localhost:8080/"
        },
        "id": "pXfdrvmWuoDD",
        "outputId": "3b6e281a-700d-4167-81c8-0cc5d90b255c"
      },
      "source": [
        "# Importar bibliotecas\n",
        "import pandas as pd\n",
        "import numpy as np\n",
        "from numpy import sort\n",
        "import matplotlib.pyplot as plt\n",
        "import seaborn as sns\n",
        "!pip install rampy\n",
        "import rampy as rp\n",
        "from sklearn.preprocessing import StandardScaler\n",
        "from imblearn.over_sampling import SMOTE\n",
        "from sklearn.neighbors import KNeighborsClassifier\n",
        "from sklearn.svm import LinearSVC\n",
        "from sklearn.svm import SVC\n",
        "from sklearn.linear_model import LogisticRegression\n",
        "from sklearn.ensemble import RandomForestClassifier \n",
        "from sklearn.neural_network import MLPClassifier\n",
        "from sklearn.calibration import CalibratedClassifierCV\n",
        "from sklearn.model_selection import train_test_split\n",
        "from sklearn.model_selection import StratifiedKFold\n",
        "from sklearn.metrics import accuracy_score\n",
        "from sklearn.metrics import classification_report, confusion_matrix\n",
        "from sklearn.metrics import plot_confusion_matrix\n",
        "from mlxtend.plotting import plot_confusion_matrix\n",
        "np.random.seed(145)\n",
        "\n",
        "# Carregar o arquivo financial_distress.csv\n",
        "data = pd.read_csv('amostras_ramam_rdi.csv')\n",
        "\n",
        "# Data de cada amostra\n",
        "saida = data[['Data','RDI']]\n",
        "# Retira coluna de datas para treinamento e teste\n",
        "data = data.drop(['Data'], axis = 1)\n",
        "\n",
        "# Divisão de classes 0 (<15) 1 (>=15 & <=20) 2 (>20)\n",
        "group0 = saida['RDI'] >= 15\n",
        "group1 = saida['RDI'] < 15\n",
        "group2 = saida['RDI'] <= 20\n",
        "\n",
        "saida['target'] = saida['RDI'].where(group2, 2) \n",
        "saida['target'].where(group0, 0, inplace = True) \n",
        "saida['target'].where(group1, 1, inplace = True) \n",
        "saida['target'].where(group2, 2, inplace = True) \n",
        "\n",
        "saida = saida.astype({\"target\": int})\n",
        "\n",
        "# Separar dados em vetores de entrada e saída\n",
        "X = np.array(data.loc[:, data.columns != 'RDI'])\n",
        "#RDI classes\n",
        "y = np.array(saida.loc[:,:])\n",
        "\n",
        "# Dividir datasets de treino e teste\n",
        "from sklearn.model_selection import train_test_split\n",
        "X_treino, X_teste, y_treino, y_teste = train_test_split(X, y, test_size = 0.20, random_state = 2, shuffle = True, stratify = y[:,2].astype('int'))\n",
        "\n",
        "###########################  Pré-processamento  ################################\n",
        "\n",
        "#Tirar linha de base\n",
        "eixo_hor = np.array(data.columns[:-1])\n",
        "X_treated1 = X_treino.copy()\n",
        "for i in range(len(X_treated1)):\n",
        "  Xout1, bas = rp.baseline(eixo_hor, X_treino[i], np.array([[min(eixo_hor), max(eixo_hor)]]), 'arPLS')\n",
        "  X_treated1[i] = Xout1.reshape(1,1901)\n",
        "y1 = np.array(X_treated1[amostra]) #Espectro sem linha de base\n",
        "\n",
        "#Remover picos cósmicos\n",
        "X_treated2 = X_treino.copy()\n",
        "wavelength = np.array(data.columns[:-1])\n",
        "def modified_z_score(intensity):\n",
        " median_int = np.median(intensity)\n",
        " mad_int = np.median([np.abs(intensity - median_int)])\n",
        " modified_z_scores = 0.6745 * (intensity - median_int) / mad_int\n",
        " return modified_z_scores\n",
        "def fixer(y,m):\n",
        " threshold = 7 # binarization threshold. \n",
        " spikes = abs(np.array(modified_z_score(np.diff(y)))) > threshold\n",
        " y_out = y.copy() # So we don’t overwrite y\n",
        " for i in np.arange(len(spikes)):\n",
        "    if spikes[i] != 0: # If we have an spike in position i\n",
        "      if i < (len(spikes)-(m+1)):\n",
        "        if i > (m):\n",
        "          w = np.arange(i-m,i+1+m) # we select 2 m + 1 points around our spike\n",
        "          w2 = w[spikes[w] == 0] # From such interval, we choose the ones which are not spikes\n",
        "          y_out[i] = np.mean(y[w2]) # and we average their values\n",
        " return y_out\n",
        "for i in range(len(X_treated2)):\n",
        "  intensity = np.array(X_treated1[i])\n",
        "  X_treated2[i] = fixer(intensity,m=3)\n",
        "\n",
        "#Suavização\n",
        "X_treated3 = X_treino.copy()\n",
        "for i in range(len(X_treated3)):\n",
        "  Xout2 = rp.smooth(eixo_hor,X_treated2[i], method=\"savgol\")\n",
        "  X_treated3[i] = Xout2.reshape(1,1901)\n",
        "\n",
        "#Padronização\n",
        "scaler = StandardScaler()\n",
        "X_treino_std = scaler.fit_transform(X_treated3)\n",
        "\n",
        "# SMOTE\n",
        "oversample = SMOTE(sampling_strategy='auto', random_state=2, k_neighbors=5)\n",
        "X_sm, y_sm = oversample.fit_resample(X_treino_std, y_treino[:,2].astype('int'))\n",
        "\n",
        "#Data augmentation\n",
        "sigma = 0.5\n",
        "X_aug = X_sm.copy() \n",
        "y_aug = y_sm.copy()\n",
        "def DA_Jitter(myX, sigma=sigma):\n",
        "    myNoise = np.random.normal(loc=0, scale=sigma, size=myX.shape)\n",
        "    return myX+myNoise\n",
        "for i in range(len(y_sm)): \n",
        "  for ii in range(1): \n",
        "    X_aug = np.append(X_aug, DA_Jitter(X_sm[i,:].reshape(1,-1)),0) \n",
        "    y_aug = np.append(y_aug, y_sm[i]) \n",
        "\n",
        "################################  Treino  #####################################\n",
        "\n",
        "# kNN\n",
        "knn = KNeighborsClassifier()\n",
        "# SVM\n",
        "svm = SVC(kernel='linear', probability=True) \n",
        "#Logistic regression\n",
        "lgr = LogisticRegression()\n",
        "#Random Forest\n",
        "forest = RandomForestClassifier(random_state=100)\n",
        "#Rede MLP\n",
        "mlp = MLPClassifier(alpha=0.1, random_state=10)\n",
        "\n",
        "n_classe = 3\n",
        "y_true, y_pred_knn, y_pred_svm = list(), list(), list()\n",
        "y_pred_lgr, y_pred_forest, y_pred_mlp = list(), list(), list()\n",
        "knn_scores, svm_scores, lgr_scores = list(), list(), list()\n",
        "forest_scores = list()\n",
        "\n",
        "kf = StratifiedKFold(n_splits=int(len(y_aug)/n_classe), shuffle=True) \n",
        "acuracia_val = []\n",
        "acuracia_treino = []\n",
        "for train_index, val_index in kf.split(X_aug,y_aug):\n",
        "  X_train, X_val = X_aug[train_index], X_aug[val_index] \n",
        "  y_train, y_val = y_aug[train_index], y_aug[val_index]\n",
        "  # fit knn model\n",
        "  knn = knn.fit(X_train, y_train)\n",
        "  # fit svm model\n",
        "  svm = svm.fit(X_train, y_train)\n",
        "  # fit LogisticRegression model\n",
        "  lgr = lgr.fit(X_train, y_train)\n",
        "  # fit Random Forest model\n",
        "  forest = forest.fit(X_train, y_train)\n",
        "\n",
        "  # Validação\n",
        "  y_true = np.append(y_true,y_val)\n",
        "  yhat_knn = knn.predict(X_val)\n",
        "  yhat_svm = svm.predict(X_val)\n",
        "  yhat_lgr = lgr.predict(X_val)\n",
        "  yhat_forest = forest.predict(X_val)\n",
        "\n",
        "  y_pred_knn = np.append(y_pred_knn, yhat_knn)\n",
        "  y_pred_svm = np.append(y_pred_svm, yhat_svm)\n",
        "  y_pred_lgr = np.append(y_pred_lgr, yhat_lgr)\n",
        "  y_pred_forest = np.append(y_pred_forest, yhat_forest)\n",
        "\n",
        "  #Treino\n",
        "  knn_scores = np.append(knn_scores, knn.score(X_train, y_train))\n",
        "  svm_scores = np.append(svm_scores, svm.score(X_train, y_train))\n",
        "  lgr_scores = np.append(lgr_scores, lgr.score(X_train, y_train))\n",
        "  forest_scores = np.append(forest_scores, forest.score(X_train, y_train))\n",
        "\n",
        "  # Resultados\n",
        "# fit Rede mlp model\n",
        "mlp = mlp.fit(X_aug, y_aug)\n",
        "y_pred_mlp = mlp.predict(X_aug)\n",
        "\n",
        "print(\"Treino\")\n",
        "print(\"%0.2f accuracy of KNN with a standard deviation of %0.2f\"% (knn_scores.mean(), knn_scores.std()))\n",
        "print(\"%0.2f accuracy of SVM with a standard deviation of %0.2f\"% (svm_scores.mean(), svm_scores.std()))\n",
        "print(\"%0.2f accuracy of LGR with a standard deviation of %0.2f\"% (lgr_scores.mean(), lgr_scores.std()))\n",
        "print(\"%0.2f accuracy of Forest with a standard deviation of %0.2f\"% (forest_scores.mean(), forest_scores.std()))\n",
        "print(\"%0.2f accuracy of MLP\"% (mlp.score(X_aug, y_aug)))\n",
        "\n",
        "################################  Teste  #####################################\n",
        "\n",
        "#Tirar linha de base\n",
        "eixo_hor = np.array(data.columns[:-1])\n",
        "X_treated1 = X_teste.copy()\n",
        "for i in range(len(X_treated1)):\n",
        "  Xout1, bas = rp.baseline(eixo_hor, X_teste[i], np.array([[min(eixo_hor), max(eixo_hor)]]), 'arPLS')\n",
        "  X_treated1[i] = Xout1.reshape(1,1901)\n",
        "\n",
        "#Remover picos cósmicos\n",
        "X_treated2 = X_teste.copy()\n",
        "wavelength = np.array(data.columns[:-1])\n",
        "def modified_z_score(intensity):\n",
        "  median_int = np.median(intensity)\n",
        "  mad_int = np.median([np.abs(intensity - median_int)])\n",
        "  modified_z_scores = 0.6745 * (intensity - median_int) / mad_int\n",
        "  return modified_z_scores\n",
        "def fixer(y,m):\n",
        "  threshold = 7 # binarization threshold. \n",
        "  spikes = abs(np.array(modified_z_score(np.diff(y)))) > threshold\n",
        "  y_out = y.copy() # So we don’t overwrite y\n",
        "  for i in np.arange(len(spikes)):\n",
        "    if spikes[i] != 0: # If we have an spike in position i\n",
        "      if i < (len(spikes)-(m+1)):\n",
        "        if i > (m):\n",
        "          w = np.arange(i-m,i+1+m) # we select 2 m + 1 points around our spike\n",
        "          w2 = w[spikes[w] == 0] # From such interval, we choose the ones which are not spikes\n",
        "          y_out[i] = np.mean(y[w2]) # and we average their values\n",
        "  return y_out\n",
        "for i in range(len(X_treated2)):\n",
        "  intensity = np.array(X_treated1[i])\n",
        "  X_treated2[i] = fixer(intensity,m=3)\n",
        "\n",
        "#Suavização\n",
        "X_treated3 = X_teste.copy()\n",
        "for i in range(len(X_treated3)):\n",
        "  Xout2 = rp.smooth(eixo_hor,X_treated2[i], method=\"savgol\")\n",
        "  X_treated3[i] = Xout2.reshape(1,1901)\n",
        "\n",
        "#Padronização\n",
        "X_teste_std = scaler.transform(X_treated3)\n",
        "\n",
        "y_teste1 = y_teste[:,2].astype('int').copy()\n",
        "yhat_test_knn =knn.predict(X_teste_std)\n",
        "yhat_test_svm =svm.predict(X_teste_std)\n",
        "yhat_test_lgr =lgr.predict(X_teste_std)\n",
        "yhat_test_forest =forest.predict(X_teste_std)\n",
        "yhat_test_mlp =mlp.predict(X_teste_std)\n",
        "\n",
        "print(\"Teste\")\n",
        "print(\"Accuraccy KNN: \",knn.score(X_teste_std, y_teste1))\n",
        "print(\"Accuraccy SVM: \",svm.score(X_teste_std, y_teste1))\n",
        "print(\"Accuraccy LGR: \",lgr.score(X_teste_std, y_teste1))\n",
        "print(\"Accuraccy Forest: \",forest.score(X_teste_std, y_teste1))\n",
        "print(\"Accuraccy MLP: \",mlp.score(X_teste_std, y_teste1))"
      ],
      "execution_count": 12,
      "outputs": [
        {
          "output_type": "stream",
          "name": "stdout",
          "text": [
            "Requirement already satisfied: rampy in /usr/local/lib/python3.7/dist-packages (0.4.9)\n",
            "Requirement already satisfied: xlrd in /usr/local/lib/python3.7/dist-packages (from rampy) (1.1.0)\n",
            "Requirement already satisfied: scipy in /usr/local/lib/python3.7/dist-packages (from rampy) (1.4.1)\n",
            "Requirement already satisfied: scikit-learn in /usr/local/lib/python3.7/dist-packages (from rampy) (0.22.2.post1)\n",
            "Requirement already satisfied: pandas in /usr/local/lib/python3.7/dist-packages (from rampy) (1.1.5)\n",
            "Requirement already satisfied: numpy>=1.12 in /usr/local/lib/python3.7/dist-packages (from rampy) (1.19.5)\n",
            "Requirement already satisfied: pytz>=2017.2 in /usr/local/lib/python3.7/dist-packages (from pandas->rampy) (2018.9)\n",
            "Requirement already satisfied: python-dateutil>=2.7.3 in /usr/local/lib/python3.7/dist-packages (from pandas->rampy) (2.8.2)\n",
            "Requirement already satisfied: six>=1.5 in /usr/local/lib/python3.7/dist-packages (from python-dateutil>=2.7.3->pandas->rampy) (1.15.0)\n",
            "Requirement already satisfied: joblib>=0.11 in /usr/local/lib/python3.7/dist-packages (from scikit-learn->rampy) (1.0.1)\n"
          ]
        },
        {
          "output_type": "stream",
          "name": "stderr",
          "text": [
            "/usr/local/lib/python3.7/dist-packages/sklearn/utils/deprecation.py:87: FutureWarning: Function safe_indexing is deprecated; safe_indexing is deprecated in version 0.22 and will be removed in version 0.24.\n",
            "  warnings.warn(msg, category=FutureWarning)\n",
            "/usr/local/lib/python3.7/dist-packages/sklearn/utils/deprecation.py:87: FutureWarning: Function safe_indexing is deprecated; safe_indexing is deprecated in version 0.22 and will be removed in version 0.24.\n",
            "  warnings.warn(msg, category=FutureWarning)\n",
            "/usr/local/lib/python3.7/dist-packages/sklearn/neural_network/_multilayer_perceptron.py:571: ConvergenceWarning: Stochastic Optimizer: Maximum iterations (200) reached and the optimization hasn't converged yet.\n",
            "  % self.max_iter, ConvergenceWarning)\n"
          ]
        },
        {
          "output_type": "stream",
          "name": "stdout",
          "text": [
            "Treino\n",
            "0.91 accuracy of KNN with a standard deviation of 0.01\n",
            "1.00 accuracy of SVM with a standard deviation of 0.00\n",
            "1.00 accuracy of LGR with a standard deviation of 0.00\n",
            "1.00 accuracy of Forest with a standard deviation of 0.00\n",
            "1.00 accuracy of MLP\n",
            "Teste\n",
            "Accuraccy KNN:  0.5\n",
            "Accuraccy SVM:  0.9090909090909091\n",
            "Accuraccy LGR:  0.9545454545454546\n",
            "Accuraccy Forest:  0.7727272727272727\n",
            "Accuraccy MLP:  1.0\n"
          ]
        }
      ]
    },
    {
      "cell_type": "markdown",
      "metadata": {
        "id": "vypjftMQzqCV"
      },
      "source": [
        "**Análise de Resultados**"
      ]
    },
    {
      "cell_type": "markdown",
      "metadata": {
        "id": "dhL7C9WPz3Pm"
      },
      "source": [
        "**Treino**"
      ]
    },
    {
      "cell_type": "code",
      "metadata": {
        "id": "4-6fJ_PszpTv"
      },
      "source": [
        "y_pred_knn = knn.predict(X_aug)\n",
        "y_pred_svm = svm.predict(X_aug)\n",
        "y_pred_lgr = lgr.predict(X_aug)\n",
        "y_pred_forest = forest.predict(X_aug)\n",
        "y_pred_mlp = mlp.predict(X_aug)"
      ],
      "execution_count": 13,
      "outputs": []
    },
    {
      "cell_type": "markdown",
      "metadata": {
        "id": "wHn3g6h9z6zf"
      },
      "source": [
        "KNN"
      ]
    },
    {
      "cell_type": "code",
      "metadata": {
        "colab": {
          "base_uri": "https://localhost:8080/",
          "height": 300
        },
        "id": "GOYrnjaVz0wh",
        "outputId": "50a8eb30-deb0-40bb-b5f7-b951566b5df1"
      },
      "source": [
        "#realiza o plot da matriz de confusão\n",
        "matriz_confusao = confusion_matrix(y_aug,y_pred_knn)\n",
        "fig, ax = plot_confusion_matrix(conf_mat=matriz_confusao)\n",
        "plt.xlabel(\"Predito\")\n",
        "plt.ylabel(\"Verdadeiro\")\n",
        "plt.title(\"(a) KNN: Dados de Treino\", y=1.02);\n",
        "plt.show()"
      ],
      "execution_count": 14,
      "outputs": [
        {
          "output_type": "display_data",
          "data": {
            "image/png": "[encoded data removed]",
            "text/plain": [
              "<Figure size 432x288 with 1 Axes>"
            ]
          },
          "metadata": {}
        }
      ]
    },
    {
      "cell_type": "code",
      "metadata": {
        "colab": {
          "base_uri": "https://localhost:8080/"
        },
        "id": "n9VF57OTz-gk",
        "outputId": "b885d285-5854-4730-acf2-8c12d02121e8"
      },
      "source": [
        "#constroi a matriz de confusão para comparar o modelo criado\n",
        "print(confusion_matrix(y_aug,y_pred_knn))\n",
        "print(classification_report(y_aug,y_pred_knn))"
      ],
      "execution_count": 15,
      "outputs": [
        {
          "output_type": "stream",
          "name": "stdout",
          "text": [
            "[[67 14  9]\n",
            " [ 0 90  0]\n",
            " [ 0  0 90]]\n",
            "              precision    recall  f1-score   support\n",
            "\n",
            "           0       1.00      0.74      0.85        90\n",
            "           1       0.87      1.00      0.93        90\n",
            "           2       0.91      1.00      0.95        90\n",
            "\n",
            "    accuracy                           0.91       270\n",
            "   macro avg       0.92      0.91      0.91       270\n",
            "weighted avg       0.92      0.91      0.91       270\n",
            "\n"
          ]
        }
      ]
    },
    {
      "cell_type": "markdown",
      "metadata": {
        "id": "cqYD2AU5z_rt"
      },
      "source": [
        "SVM"
      ]
    },
    {
      "cell_type": "code",
      "metadata": {
        "colab": {
          "base_uri": "https://localhost:8080/",
          "height": 300
        },
        "id": "GJ6Qcmmh0CEA",
        "outputId": "6ca2952f-abaf-4177-e692-13a4b7a4edcb"
      },
      "source": [
        "#realiza o plot da matriz de confusão\n",
        "matriz_confusao = confusion_matrix(y_aug,y_pred_svm)\n",
        "fig, ax = plot_confusion_matrix(conf_mat=matriz_confusao)\n",
        "plt.xlabel(\"Predito\")\n",
        "plt.ylabel(\"Verdadeiro\")\n",
        "plt.title(\"(a) SVM: Dados de Treino\", y=1.02);\n",
        "plt.show()"
      ],
      "execution_count": 16,
      "outputs": [
        {
          "output_type": "display_data",
          "data": {
            "image/png": "[encoded data removed]",
            "text/plain": [
              "<Figure size 432x288 with 1 Axes>"
            ]
          },
          "metadata": {}
        }
      ]
    },
    {
      "cell_type": "code",
      "metadata": {
        "colab": {
          "base_uri": "https://localhost:8080/"
        },
        "id": "QzggUSSQ0C3e",
        "outputId": "6d68797a-7ba7-4b5e-ffe8-7b936172ff94"
      },
      "source": [
        "#constroi a matriz de confusão para comparar o modelo criado\n",
        "print(confusion_matrix(y_aug,y_pred_svm))\n",
        "print(classification_report(y_aug,y_pred_svm))"
      ],
      "execution_count": 17,
      "outputs": [
        {
          "output_type": "stream",
          "name": "stdout",
          "text": [
            "[[90  0  0]\n",
            " [ 0 90  0]\n",
            " [ 0  0 90]]\n",
            "              precision    recall  f1-score   support\n",
            "\n",
            "           0       1.00      1.00      1.00        90\n",
            "           1       1.00      1.00      1.00        90\n",
            "           2       1.00      1.00      1.00        90\n",
            "\n",
            "    accuracy                           1.00       270\n",
            "   macro avg       1.00      1.00      1.00       270\n",
            "weighted avg       1.00      1.00      1.00       270\n",
            "\n"
          ]
        }
      ]
    },
    {
      "cell_type": "markdown",
      "metadata": {
        "id": "i11QlVPp0FB1"
      },
      "source": [
        "LGR"
      ]
    },
    {
      "cell_type": "code",
      "metadata": {
        "colab": {
          "base_uri": "https://localhost:8080/",
          "height": 300
        },
        "id": "-IzRYGMQ0Hgz",
        "outputId": "13be97ef-9e09-4d78-c258-e7069c8b0233"
      },
      "source": [
        "#realiza o plot da matriz de confusão\n",
        "matriz_confusao = confusion_matrix(y_aug,y_pred_lgr)\n",
        "fig, ax = plot_confusion_matrix(conf_mat=matriz_confusao)\n",
        "plt.xlabel(\"Predito\")\n",
        "plt.ylabel(\"Verdadeiro\")\n",
        "plt.title(\"(a) LGR: Dados de Treino\", y=1.02);\n",
        "plt.show()"
      ],
      "execution_count": 18,
      "outputs": [
        {
          "output_type": "display_data",
          "data": {
            "image/png": "[encoded data removed]",
            "text/plain": [
              "<Figure size 432x288 with 1 Axes>"
            ]
          },
          "metadata": {}
        }
      ]
    },
    {
      "cell_type": "code",
      "metadata": {
        "colab": {
          "base_uri": "https://localhost:8080/"
        },
        "id": "yI2jy0TQ0KUE",
        "outputId": "a1f8888d-cd64-42a4-8e12-fbdfe5877e16"
      },
      "source": [
        "#constroi a matriz de confusão para comparar o modelo criado\n",
        "print(confusion_matrix(y_aug,y_pred_lgr))\n",
        "print(classification_report(y_aug,y_pred_lgr))"
      ],
      "execution_count": 19,
      "outputs": [
        {
          "output_type": "stream",
          "name": "stdout",
          "text": [
            "[[90  0  0]\n",
            " [ 0 90  0]\n",
            " [ 0  0 90]]\n",
            "              precision    recall  f1-score   support\n",
            "\n",
            "           0       1.00      1.00      1.00        90\n",
            "           1       1.00      1.00      1.00        90\n",
            "           2       1.00      1.00      1.00        90\n",
            "\n",
            "    accuracy                           1.00       270\n",
            "   macro avg       1.00      1.00      1.00       270\n",
            "weighted avg       1.00      1.00      1.00       270\n",
            "\n"
          ]
        }
      ]
    },
    {
      "cell_type": "markdown",
      "metadata": {
        "id": "dHpD3iks0L2T"
      },
      "source": [
        "RF"
      ]
    },
    {
      "cell_type": "code",
      "metadata": {
        "colab": {
          "base_uri": "https://localhost:8080/",
          "height": 300
        },
        "id": "HT09sJHs0Ncl",
        "outputId": "10213c2e-ecb2-43d8-f8ee-b066dfb24d6a"
      },
      "source": [
        "#realiza o plot da matriz de confusão\n",
        "matriz_confusao = confusion_matrix(y_aug,y_pred_forest)\n",
        "fig, ax = plot_confusion_matrix(conf_mat=matriz_confusao)\n",
        "plt.xlabel(\"Predito\")\n",
        "plt.ylabel(\"Verdadeiro\")\n",
        "plt.title(\"(a) RF: Dados de Treino\", y=1.02);\n",
        "plt.show()"
      ],
      "execution_count": 20,
      "outputs": [
        {
          "output_type": "display_data",
          "data": {
            "image/png": "[encoded data removed]",
            "text/plain": [
              "<Figure size 432x288 with 1 Axes>"
            ]
          },
          "metadata": {}
        }
      ]
    },
    {
      "cell_type": "code",
      "metadata": {
        "colab": {
          "base_uri": "https://localhost:8080/"
        },
        "id": "tAIPM5u00PlR",
        "outputId": "d981c8e4-043e-46d9-d5a6-e34de48820c3"
      },
      "source": [
        "#constroi a matriz de confusão para comparar o modelo criado\n",
        "print(confusion_matrix(y_aug,y_pred_forest))\n",
        "print(classification_report(y_aug,y_pred_forest))"
      ],
      "execution_count": 21,
      "outputs": [
        {
          "output_type": "stream",
          "name": "stdout",
          "text": [
            "[[90  0  0]\n",
            " [ 0 90  0]\n",
            " [ 0  0 90]]\n",
            "              precision    recall  f1-score   support\n",
            "\n",
            "           0       1.00      1.00      1.00        90\n",
            "           1       1.00      1.00      1.00        90\n",
            "           2       1.00      1.00      1.00        90\n",
            "\n",
            "    accuracy                           1.00       270\n",
            "   macro avg       1.00      1.00      1.00       270\n",
            "weighted avg       1.00      1.00      1.00       270\n",
            "\n"
          ]
        }
      ]
    },
    {
      "cell_type": "markdown",
      "metadata": {
        "id": "R3Bm9fJi0RzX"
      },
      "source": [
        "MLP"
      ]
    },
    {
      "cell_type": "code",
      "metadata": {
        "colab": {
          "base_uri": "https://localhost:8080/",
          "height": 300
        },
        "id": "S9PJhaRh0RXj",
        "outputId": "5d64c3db-03a7-4229-c8d9-eb94dde487dc"
      },
      "source": [
        "#realiza o plot da matriz de confusão\n",
        "matriz_confusao = confusion_matrix(y_aug,y_pred_mlp)\n",
        "fig, ax = plot_confusion_matrix(conf_mat=matriz_confusao)\n",
        "plt.xlabel(\"Predito\")\n",
        "plt.ylabel(\"Verdadeiro\")\n",
        "plt.title(\"(a) MLP: Dados de Treino\", y=1.02);\n",
        "plt.show()"
      ],
      "execution_count": 22,
      "outputs": [
        {
          "output_type": "display_data",
          "data": {
            "image/png": "[encoded data removed]",
            "text/plain": [
              "<Figure size 432x288 with 1 Axes>"
            ]
          },
          "metadata": {}
        }
      ]
    },
    {
      "cell_type": "code",
      "metadata": {
        "colab": {
          "base_uri": "https://localhost:8080/"
        },
        "id": "uLLvfnOV0UJ7",
        "outputId": "2bf19523-135c-45c0-85bd-0e8cf7225dad"
      },
      "source": [
        "#constroi a matriz de confusão para comparar o modelo criado\n",
        "print(confusion_matrix(y_aug,y_pred_mlp))\n",
        "print(classification_report(y_aug,y_pred_mlp))"
      ],
      "execution_count": 23,
      "outputs": [
        {
          "output_type": "stream",
          "name": "stdout",
          "text": [
            "[[90  0  0]\n",
            " [ 0 90  0]\n",
            " [ 0  0 90]]\n",
            "              precision    recall  f1-score   support\n",
            "\n",
            "           0       1.00      1.00      1.00        90\n",
            "           1       1.00      1.00      1.00        90\n",
            "           2       1.00      1.00      1.00        90\n",
            "\n",
            "    accuracy                           1.00       270\n",
            "   macro avg       1.00      1.00      1.00       270\n",
            "weighted avg       1.00      1.00      1.00       270\n",
            "\n"
          ]
        }
      ]
    },
    {
      "cell_type": "markdown",
      "metadata": {
        "id": "ZgOIgOpU0YQX"
      },
      "source": [
        "**TESTE**"
      ]
    },
    {
      "cell_type": "markdown",
      "metadata": {
        "id": "HceBQhd50ayX"
      },
      "source": [
        "KNN"
      ]
    },
    {
      "cell_type": "code",
      "metadata": {
        "colab": {
          "base_uri": "https://localhost:8080/",
          "height": 300
        },
        "id": "5x-Qg0ls0aHk",
        "outputId": "c241cccd-71d0-4b11-c2e2-b584e19732ff"
      },
      "source": [
        "#realiza o plot da matriz de confusão\n",
        "matriz_confusao = confusion_matrix(y_teste1, yhat_test_knn)\n",
        "fig, ax = plot_confusion_matrix(conf_mat=matriz_confusao)\n",
        "plt.xlabel(\"Predito\")\n",
        "plt.ylabel(\"Verdadeiro\")\n",
        "plt.title(\"(a) KNN\", y=1.02);\n",
        "plt.show()"
      ],
      "execution_count": 24,
      "outputs": [
        {
          "output_type": "display_data",
          "data": {
            "image/png": "[encoded data removed]",
            "text/plain": [
              "<Figure size 432x288 with 1 Axes>"
            ]
          },
          "metadata": {}
        }
      ]
    },
    {
      "cell_type": "code",
      "metadata": {
        "colab": {
          "base_uri": "https://localhost:8080/"
        },
        "id": "nM9taAVT0WTW",
        "outputId": "597fd85b-05d1-4f5a-f270-fea57af80145"
      },
      "source": [
        "#constroi a matriz de confusão para comparar o modelo criado\n",
        "print(confusion_matrix(y_teste1, yhat_test_knn))\n",
        "print(classification_report(y_teste1, yhat_test_knn))"
      ],
      "execution_count": 25,
      "outputs": [
        {
          "output_type": "stream",
          "name": "stdout",
          "text": [
            "[[2 4 6]\n",
            " [0 3 1]\n",
            " [0 0 6]]\n",
            "              precision    recall  f1-score   support\n",
            "\n",
            "           0       1.00      0.17      0.29        12\n",
            "           1       0.43      0.75      0.55         4\n",
            "           2       0.46      1.00      0.63         6\n",
            "\n",
            "    accuracy                           0.50        22\n",
            "   macro avg       0.63      0.64      0.49        22\n",
            "weighted avg       0.75      0.50      0.43        22\n",
            "\n"
          ]
        }
      ]
    },
    {
      "cell_type": "markdown",
      "metadata": {
        "id": "CHdRb4590hIG"
      },
      "source": [
        "SVM"
      ]
    },
    {
      "cell_type": "code",
      "metadata": {
        "colab": {
          "base_uri": "https://localhost:8080/",
          "height": 300
        },
        "id": "P3QjES1g0jG_",
        "outputId": "d4518e86-ad6f-45ce-8614-fef43efd4122"
      },
      "source": [
        "#realiza o plot da matriz de confusão\n",
        "matriz_confusao = confusion_matrix(y_teste1, yhat_test_svm)\n",
        "fig, ax = plot_confusion_matrix(conf_mat=matriz_confusao)\n",
        "plt.xlabel(\"Predito\")\n",
        "plt.ylabel(\"Verdadeiro\")\n",
        "plt.title(\"(b) SVM\", y=1.02);\n",
        "plt.show()"
      ],
      "execution_count": 26,
      "outputs": [
        {
          "output_type": "display_data",
          "data": {
            "image/png": "[encoded data removed]",
            "text/plain": [
              "<Figure size 432x288 with 1 Axes>"
            ]
          },
          "metadata": {}
        }
      ]
    },
    {
      "cell_type": "code",
      "metadata": {
        "colab": {
          "base_uri": "https://localhost:8080/"
        },
        "id": "GvCH6bMn0jtk",
        "outputId": "a9a8def2-95a1-468a-d088-20f0f24ef42e"
      },
      "source": [
        "#constroi a matriz de confusão para comparar o modelo criado\n",
        "print(confusion_matrix(y_teste1, yhat_test_svm))\n",
        "print(classification_report(y_teste1, yhat_test_svm))"
      ],
      "execution_count": 27,
      "outputs": [
        {
          "output_type": "stream",
          "name": "stdout",
          "text": [
            "[[12  0  0]\n",
            " [ 2  2  0]\n",
            " [ 0  0  6]]\n",
            "              precision    recall  f1-score   support\n",
            "\n",
            "           0       0.86      1.00      0.92        12\n",
            "           1       1.00      0.50      0.67         4\n",
            "           2       1.00      1.00      1.00         6\n",
            "\n",
            "    accuracy                           0.91        22\n",
            "   macro avg       0.95      0.83      0.86        22\n",
            "weighted avg       0.92      0.91      0.90        22\n",
            "\n"
          ]
        }
      ]
    },
    {
      "cell_type": "markdown",
      "metadata": {
        "id": "V9JpaZEi0nHW"
      },
      "source": [
        "LGR"
      ]
    },
    {
      "cell_type": "code",
      "metadata": {
        "colab": {
          "base_uri": "https://localhost:8080/",
          "height": 300
        },
        "id": "-qsaWtrN0lZl",
        "outputId": "0b0bb059-9ffb-42c3-f417-3d395ca2ae0e"
      },
      "source": [
        "#realiza o plot da matriz de confusão\n",
        "matriz_confusao = confusion_matrix(y_teste1, yhat_test_lgr)\n",
        "fig, ax = plot_confusion_matrix(conf_mat=matriz_confusao)\n",
        "plt.xlabel(\"Predito\")\n",
        "plt.ylabel(\"Verdadeiro\")\n",
        "plt.title(\"(c) LGR\", y=1.02);\n",
        "plt.show()"
      ],
      "execution_count": 28,
      "outputs": [
        {
          "output_type": "display_data",
          "data": {
            "image/png": "[encoded data removed]",
            "text/plain": [
              "<Figure size 432x288 with 1 Axes>"
            ]
          },
          "metadata": {}
        }
      ]
    },
    {
      "cell_type": "code",
      "metadata": {
        "colab": {
          "base_uri": "https://localhost:8080/"
        },
        "id": "NV5O0x6w0obW",
        "outputId": "a3ff9736-21b2-4b0a-c194-7ac10b60fdb3"
      },
      "source": [
        "#constroi a matriz de confusão para comparar o modelo criado\n",
        "print(confusion_matrix(y_teste1, yhat_test_lgr))\n",
        "print(classification_report(y_teste1, yhat_test_lgr))"
      ],
      "execution_count": 29,
      "outputs": [
        {
          "output_type": "stream",
          "name": "stdout",
          "text": [
            "[[12  0  0]\n",
            " [ 1  3  0]\n",
            " [ 0  0  6]]\n",
            "              precision    recall  f1-score   support\n",
            "\n",
            "           0       0.92      1.00      0.96        12\n",
            "           1       1.00      0.75      0.86         4\n",
            "           2       1.00      1.00      1.00         6\n",
            "\n",
            "    accuracy                           0.95        22\n",
            "   macro avg       0.97      0.92      0.94        22\n",
            "weighted avg       0.96      0.95      0.95        22\n",
            "\n"
          ]
        }
      ]
    },
    {
      "cell_type": "markdown",
      "metadata": {
        "id": "hcu97Bc10qOS"
      },
      "source": [
        "RF"
      ]
    },
    {
      "cell_type": "code",
      "metadata": {
        "colab": {
          "base_uri": "https://localhost:8080/",
          "height": 300
        },
        "id": "XRu06lJw0sek",
        "outputId": "b29394a5-f2e6-4a54-b52a-164774b62c06"
      },
      "source": [
        "#realiza o plot da matriz de confusão\n",
        "matriz_confusao = confusion_matrix(y_teste1, yhat_test_forest)\n",
        "fig, ax = plot_confusion_matrix(conf_mat=matriz_confusao)\n",
        "plt.xlabel(\"Predito\")\n",
        "plt.ylabel(\"Verdadeiro\")\n",
        "plt.title(\"(d) RF\", y=1.02);\n",
        "plt.show()"
      ],
      "execution_count": 30,
      "outputs": [
        {
          "output_type": "display_data",
          "data": {
            "image/png": "[encoded data removed]",
            "text/plain": [
              "<Figure size 432x288 with 1 Axes>"
            ]
          },
          "metadata": {}
        }
      ]
    },
    {
      "cell_type": "code",
      "metadata": {
        "colab": {
          "base_uri": "https://localhost:8080/"
        },
        "id": "4ZnL6sXi0tFJ",
        "outputId": "34867f17-ad8b-4107-cf1f-cafa07a0c0e8"
      },
      "source": [
        "#constroi a matriz de confusão para comparar o modelo criado\n",
        "print(confusion_matrix(y_teste1, yhat_test_forest))\n",
        "print(classification_report(y_teste1, yhat_test_forest))"
      ],
      "execution_count": 31,
      "outputs": [
        {
          "output_type": "stream",
          "name": "stdout",
          "text": [
            "[[10  2  0]\n",
            " [ 2  2  0]\n",
            " [ 0  1  5]]\n",
            "              precision    recall  f1-score   support\n",
            "\n",
            "           0       0.83      0.83      0.83        12\n",
            "           1       0.40      0.50      0.44         4\n",
            "           2       1.00      0.83      0.91         6\n",
            "\n",
            "    accuracy                           0.77        22\n",
            "   macro avg       0.74      0.72      0.73        22\n",
            "weighted avg       0.80      0.77      0.78        22\n",
            "\n"
          ]
        }
      ]
    },
    {
      "cell_type": "markdown",
      "metadata": {
        "id": "9eepl6Bw0vaN"
      },
      "source": [
        "MLP"
      ]
    },
    {
      "cell_type": "code",
      "metadata": {
        "colab": {
          "base_uri": "https://localhost:8080/",
          "height": 300
        },
        "id": "u2vWRHVC0wZ5",
        "outputId": "79d43053-059e-45d8-e4de-370e6df30068"
      },
      "source": [
        "#realiza o plot da matriz de confusão\n",
        "matriz_confusao = confusion_matrix(y_teste1, yhat_test_mlp)\n",
        "fig, ax = plot_confusion_matrix(conf_mat=matriz_confusao)\n",
        "plt.xlabel(\"Predito\")\n",
        "plt.ylabel(\"Verdadeiro\")\n",
        "plt.title(\"(e) MLP\", y=1.02);\n",
        "plt.show()"
      ],
      "execution_count": 32,
      "outputs": [
        {
          "output_type": "display_data",
          "data": {
            "image/png": "[encoded data removed]",
            "text/plain": [
              "<Figure size 432x288 with 1 Axes>"
            ]
          },
          "metadata": {}
        }
      ]
    },
    {
      "cell_type": "code",
      "metadata": {
        "colab": {
          "base_uri": "https://localhost:8080/"
        },
        "id": "qoGNQVjW0xtb",
        "outputId": "4dadb59e-6adc-48ba-c302-b46f8f4cee99"
      },
      "source": [
        "#constroi a matriz de confusão para comparar o modelo criado\n",
        "print(confusion_matrix(y_teste1, yhat_test_mlp))\n",
        "print(classification_report(y_teste1, yhat_test_mlp))"
      ],
      "execution_count": 33,
      "outputs": [
        {
          "output_type": "stream",
          "name": "stdout",
          "text": [
            "[[12  0  0]\n",
            " [ 0  4  0]\n",
            " [ 0  0  6]]\n",
            "              precision    recall  f1-score   support\n",
            "\n",
            "           0       1.00      1.00      1.00        12\n",
            "           1       1.00      1.00      1.00         4\n",
            "           2       1.00      1.00      1.00         6\n",
            "\n",
            "    accuracy                           1.00        22\n",
            "   macro avg       1.00      1.00      1.00        22\n",
            "weighted avg       1.00      1.00      1.00        22\n",
            "\n"
          ]
        }
      ]
    },
    {
      "cell_type": "code",
      "metadata": {
        "id": "RRUUJCQM072L"
      },
      "source": [
        "class_names = ['Classe 0','Classe 1', 'Classe 2' ]\n",
        "def plot_value_array(i, predictions_array, true_label, rdi_value):\n",
        "  predictions_array, true_label, rdi_value = predictions_array[i], true_label[i], rdi_value[i]\n",
        "  plt.grid(False)\n",
        "  plt.xticks([])\n",
        "  plt.yticks([])\n",
        "  thisplot = plt.bar(range(3), predictions_array, color=\"#777777\")\n",
        "  plt.ylim([0, 1])\n",
        "  predicted_label = np.argmax(predictions_array)\n",
        "  \n",
        "  if predicted_label == true_label:\n",
        "    c = 'blue'\n",
        "  else:\n",
        "    c = 'red'\n",
        "  \n",
        "  plt.xlabel(\"{}; {:2.0f}% \\n ({}. RDI = {})\".format(class_names[predicted_label],\n",
        "                                100*np.max(predictions_array),\n",
        "                                class_names[true_label],\n",
        "                                rdi_value),\n",
        "                                color=c, fontsize=10)\n",
        "\n",
        "  thisplot[predicted_label].set_color('red')\n",
        "  thisplot[true_label].set_color('blue')"
      ],
      "execution_count": 34,
      "outputs": []
    },
    {
      "cell_type": "code",
      "metadata": {
        "colab": {
          "base_uri": "https://localhost:8080/",
          "height": 709
        },
        "id": "ARnlrnbm0_UE",
        "outputId": "5b81145a-b3a0-44c6-8197-208c711f3597"
      },
      "source": [
        "mlp_predictions = mlp.predict_proba(X_teste_std)\n",
        "\n",
        "# Color correct predictions in blue, incorrect predictions in red\n",
        "num_rows = 4\n",
        "num_cols = 6\n",
        "num_images = num_rows*num_cols\n",
        "plt.figure(figsize=(2.5*num_cols, 3*num_rows))\n",
        "for i in range(len(y_teste1)):\n",
        "  plt.subplot(num_rows, num_cols, i+1)\n",
        "  plot_value_array(i, mlp_predictions, y_teste1, y_teste[:,1])"
      ],
      "execution_count": 35,
      "outputs": [
        {
          "output_type": "display_data",
          "data": {
            "image/png": "[encoded data removed]",
            "text/plain": [
              "<Figure size 1080x864 with 22 Axes>"
            ]
          },
          "metadata": {}
        }
      ]
    },
    {
      "cell_type": "markdown",
      "metadata": {
        "id": "QM5zlqU8vZlO"
      },
      "source": [
        "# Regressão"
      ]
    },
    {
      "cell_type": "code",
      "metadata": {
        "colab": {
          "base_uri": "https://localhost:8080/"
        },
        "id": "l5UWfO11vY-V",
        "outputId": "bfddfc78-db34-4dc0-fcd1-219243476745"
      },
      "source": [
        "# Importar bibliotecas\n",
        "import pandas as pd\n",
        "import numpy as np\n",
        "from numpy import sort\n",
        "import matplotlib.pyplot as plt\n",
        "import seaborn as sns\n",
        "!pip install rampy\n",
        "import rampy as rp\n",
        "from sklearn.preprocessing import StandardScaler\n",
        "from imblearn.over_sampling import SMOTE\n",
        "from sklearn.model_selection import train_test_split\n",
        "from sklearn.metrics import accuracy_score\n",
        "from sklearn.metrics import classification_report, confusion_matrix\n",
        "from sklearn.metrics import plot_confusion_matrix\n",
        "from mlxtend.plotting import plot_confusion_matrix\n",
        "from sklearn.linear_model import LinearRegression\n",
        "from sklearn.svm import SVR\n",
        "from sklearn.ensemble import RandomForestRegressor\n",
        "from sklearn import linear_model\n",
        "from sklearn.linear_model import ElasticNet\n",
        "from sklearn.kernel_ridge import KernelRidge\n",
        "from sklearn.linear_model import SGDRegressor\n",
        "from sklearn.linear_model import BayesianRidge\n",
        "from sklearn.isotonic import IsotonicRegression\n",
        "from sklearn.metrics import mean_squared_error\n",
        "from sklearn.metrics import mean_absolute_error\n",
        "np.random.seed(5)\n",
        "\n",
        "# Carregar o arquivo financial_distress.csv\n",
        "data = pd.read_csv('amostras_ramam_rdi.csv')\n",
        "\n",
        "# Data de cada amostra\n",
        "saida = data[['Data','RDI']]\n",
        "# Retira coluna de datas para treinamento e teste\n",
        "data = data.drop(['Data'], axis = 1)\n",
        "\n",
        "# Separar dados em vetores de entrada e saída\n",
        "X = np.array(data.loc[:, data.columns != 'RDI'])\n",
        "#RDI classes\n",
        "y = np.array(data.loc[:,data.columns == 'RDI'])\n",
        "\n",
        "# Dividir datasets de treino e teste\n",
        "from sklearn.model_selection import train_test_split\n",
        "X_treino, X_teste, y_treino, y_teste = train_test_split(X, y, test_size = 0.20, random_state = 2, shuffle = True)\n",
        "\n",
        "amostra = 0\n",
        "\n",
        "###########################  Pré-processamento  ################################\n",
        "\n",
        "#Tirar linha de base\n",
        "y0 = X_treino[amostra]  #Espectro original\n",
        "eixo_hor = np.array(data.columns[:-1])\n",
        "#a = np.zeros((84,1901))\n",
        "X_treated1 = X_treino.copy()\n",
        "for i in range(len(X_treated1)):\n",
        "  Xout1, bas = rp.baseline(eixo_hor, X_treino[i], np.array([[min(eixo_hor), max(eixo_hor)]]), 'arPLS')\n",
        "  X_treated1[i] = Xout1.reshape(1,1901)\n",
        "y1 = np.array(X_treated1[amostra]) #Espectro sem linha de base\n",
        "\n",
        "#Remover picos cósmicos\n",
        "X_treated2 = X_treino.copy()\n",
        "wavelength = np.array(data.columns[:-1])\n",
        "def modified_z_score(intensity):\n",
        " median_int = np.median(intensity)\n",
        " mad_int = np.median([np.abs(intensity - median_int)])\n",
        " modified_z_scores = 0.6745 * (intensity - median_int) / mad_int\n",
        " return modified_z_scores\n",
        "def fixer(y,m):\n",
        " threshold = 7 # binarization threshold. \n",
        " spikes = abs(np.array(modified_z_score(np.diff(y)))) > threshold\n",
        " y_out = y.copy() # So we don’t overwrite y\n",
        " for i in np.arange(len(spikes)):\n",
        "    if spikes[i] != 0: # If we have an spike in position i\n",
        "      if i < (len(spikes)-(m+1)):\n",
        "        if i > (m):\n",
        "          w = np.arange(i-m,i+1+m) # we select 2 m + 1 points around our spike\n",
        "          w2 = w[spikes[w] == 0] # From such interval, we choose the ones which are not spikes\n",
        "          y_out[i] = np.mean(y[w2]) # and we average their values\n",
        " return y_out\n",
        "for i in range(len(X_treated2)):\n",
        "  intensity = np.array(X_treated1[i])\n",
        "  X_treated2[i] = fixer(intensity,m=3)\n",
        "y2 = np.array(X_treated2[amostra]) #Espectro sem picos cósmicos\n",
        "\n",
        "#Suavização\n",
        "X_treated3 = X_treino.copy()\n",
        "for i in range(len(X_treated3)):\n",
        "  Xout2 = rp.smooth(eixo_hor,X_treated2[i], method=\"savgol\")\n",
        "  X_treated3[i] = Xout2.reshape(1,1901)\n",
        "y3 = np.array(X_treated3[amostra]) #Espectro suavizado\n",
        "\n",
        "#Padronização\n",
        "scaler = StandardScaler()\n",
        "X_treino_std = scaler.fit_transform(X_treated3)\n",
        "y4 = np.array(X_treino_std[amostra]) #Espectro normalizado\n",
        "\n",
        "sigma = 0.5\n",
        "X_aug = X_treino_std.copy() \n",
        "y_aug = y_treino.copy() \n",
        "def DA_Jitter(myX, sigma=sigma):\n",
        "    myNoise = np.random.normal(loc=0, scale=sigma, size=myX.shape)\n",
        "    return myX+myNoise\n",
        "for i in range(len(y_treino)): \n",
        "  for ii in range(1): \n",
        "    X_aug = np.append(X_aug, DA_Jitter(X_treino_std[i,:].reshape(1,-1)),0) \n",
        "    y_aug = np.append(y_aug, y_treino[i]) \n",
        "\n",
        "################################  Treino  #####################################\n",
        "lr = LinearRegression().fit(X_aug, y_aug)\n",
        "svr = SVR().fit(X_aug, y_aug) \n",
        "forest = RandomForestRegressor(random_state=0).fit(X_aug, y_aug)\n",
        "\n",
        "print('Treino')\n",
        "print('R2 LR: ', lr.score(X_aug, y_aug)) # retorna o R2\n",
        "print('R2 SVR: ', svr.score(X_aug, y_aug)) # retorna o R2\n",
        "print('R2 Forest: ', forest.score(X_aug, y_aug)) # retorna o R2\n",
        "print('\\n')\n",
        "\n",
        "MSE_train_lr = mean_squared_error(y_aug,lr.predict(X_aug)) # encontra o MSE através do sklearn\n",
        "MSE_train_svr = mean_squared_error(y_aug,svr.predict(X_aug)) # encontra o MSE através do sklearn\n",
        "MSE_train_forest = mean_squared_error(y_aug,forest.predict(X_aug)) # encontra o MSE através do sklearn\n",
        "\n",
        "print('MSE Linear: ', MSE_train_lr)\n",
        "print('MSE SVR: ', MSE_train_svr)\n",
        "print('MSE Forest: ', MSE_train_forest)\n",
        "print('\\n')\n",
        "\n",
        "MAE_train_lr = mean_absolute_error(y_aug,lr.predict(X_aug)) # encontra o MAE através do sklearn\n",
        "MAE_train_svr = mean_absolute_error(y_aug,svr.predict(X_aug)) # encontra o MAE através do sklearn\n",
        "MAE_train_forest = mean_absolute_error(y_aug,forest.predict(X_aug)) # encontra o MAE através do sklearn\n",
        "\n",
        "print('MAE Linear: ', MAE_train_lr)\n",
        "print('MAE SVR: ', MAE_train_svr)\n",
        "print('MAE Forest: ', MAE_train_forest)\n",
        "print('\\n')\n",
        "\n",
        "################################  Teste  #####################################\n",
        "amostra = 5 \n",
        "#Tirar linha de base\n",
        "eixo_hor = np.array(data.columns[:-1])\n",
        "X_treated1 = X_teste.copy()\n",
        "for i in range(len(X_treated1)):\n",
        "  Xout1, bas = rp.baseline(eixo_hor, X_teste[i], np.array([[min(eixo_hor), max(eixo_hor)]]), 'arPLS')\n",
        "  X_treated1[i] = Xout1.reshape(1,1901)\n",
        "\n",
        "#Remover picos cósmicos\n",
        "X_treated2 = X_teste.copy()\n",
        "wavelength = np.array(data.columns[:-1])\n",
        "def modified_z_score(intensity):\n",
        "  median_int = np.median(intensity)\n",
        "  mad_int = np.median([np.abs(intensity - median_int)])\n",
        "  modified_z_scores = 0.6745 * (intensity - median_int) / mad_int\n",
        "  return modified_z_scores\n",
        "def fixer(y,m):\n",
        "  threshold = 7 # binarization threshold. \n",
        "  spikes = abs(np.array(modified_z_score(np.diff(y)))) > threshold\n",
        "  y_out = y.copy() # So we don’t overwrite y\n",
        "  for i in np.arange(len(spikes)):\n",
        "    if spikes[i] != 0: # If we have an spike in position i\n",
        "      if i < (len(spikes)-(m+1)):\n",
        "        if i > (m):\n",
        "          w = np.arange(i-m,i+1+m) # we select 2 m + 1 points around our spike\n",
        "          w2 = w[spikes[w] == 0] # From such interval, we choose the ones which are not spikes\n",
        "          y_out[i] = np.mean(y[w2]) # and we average their values\n",
        "  return y_out\n",
        "for i in range(len(X_treated2)):\n",
        "  intensity = np.array(X_treated1[i])\n",
        "  X_treated2[i] = fixer(intensity,m=3)\n",
        "\n",
        "#Suavização\n",
        "X_treated3 = X_teste.copy()\n",
        "for i in range(len(X_treated3)):\n",
        "  Xout2 = rp.smooth(eixo_hor,X_treated2[i], method=\"savgol\")\n",
        "  X_treated3[i] = Xout2.reshape(1,1901)\n",
        "\n",
        "#Padronização\n",
        "X_teste_std = scaler.transform(X_treated3)\n",
        "\n",
        "print('Teste')\n",
        "print('R2 LR: ', lr.score(X_teste_std, y_teste))\n",
        "print('R2 SVR: ', svr.score(X_teste_std, y_teste))\n",
        "print('R2 Forest: ', forest.score(X_teste_std, y_teste))\n",
        "print('\\n')\n",
        "\n",
        "MSE_lr = mean_squared_error(y_teste,lr.predict(X_teste_std)) # encontra o MSE através do sklearn\n",
        "MSE_svr = mean_squared_error(y_teste,svr.predict(X_teste_std)) # encontra o MSE através do sklearn\n",
        "MSE_forest = mean_squared_error(y_teste,forest.predict(X_teste_std)) # encontra o MSE através do sklearn\n",
        "\n",
        "print('MSE Linear: ', MSE_lr)\n",
        "print('MSE SVR: ', MSE_svr)\n",
        "print('MSE Forest: ', MSE_forest)\n",
        "print('\\n')\n",
        "\n",
        "MAE_lr = mean_absolute_error(y_teste,lr.predict(X_teste_std)) # encontra o MAE através do sklearn\n",
        "MAE_svr = mean_absolute_error(y_teste,svr.predict(X_teste_std)) # encontra o MAE através do sklearn\n",
        "MAE_forest = mean_absolute_error(y_teste,forest.predict(X_teste_std)) # encontra o MAE através do sklearn\n",
        "\n",
        "print('MAE Linear: ', MAE_lr)\n",
        "print('MAE SVR: ', MAE_svr)\n",
        "print('MAE Forest: ', MAE_forest)"
      ],
      "execution_count": 36,
      "outputs": [
        {
          "output_type": "stream",
          "name": "stdout",
          "text": [
            "Requirement already satisfied: rampy in /usr/local/lib/python3.7/dist-packages (0.4.9)\n",
            "Requirement already satisfied: scikit-learn in /usr/local/lib/python3.7/dist-packages (from rampy) (0.22.2.post1)\n",
            "Requirement already satisfied: pandas in /usr/local/lib/python3.7/dist-packages (from rampy) (1.1.5)\n",
            "Requirement already satisfied: scipy in /usr/local/lib/python3.7/dist-packages (from rampy) (1.4.1)\n",
            "Requirement already satisfied: xlrd in /usr/local/lib/python3.7/dist-packages (from rampy) (1.1.0)\n",
            "Requirement already satisfied: numpy>=1.12 in /usr/local/lib/python3.7/dist-packages (from rampy) (1.19.5)\n",
            "Requirement already satisfied: pytz>=2017.2 in /usr/local/lib/python3.7/dist-packages (from pandas->rampy) (2018.9)\n",
            "Requirement already satisfied: python-dateutil>=2.7.3 in /usr/local/lib/python3.7/dist-packages (from pandas->rampy) (2.8.2)\n",
            "Requirement already satisfied: six>=1.5 in /usr/local/lib/python3.7/dist-packages (from python-dateutil>=2.7.3->pandas->rampy) (1.15.0)\n",
            "Requirement already satisfied: joblib>=0.11 in /usr/local/lib/python3.7/dist-packages (from scikit-learn->rampy) (1.0.1)\n",
            "Treino\n",
            "R2 LR:  1.0\n",
            "R2 SVR:  0.5449589347504099\n",
            "R2 Forest:  0.946813569643348\n",
            "\n",
            "\n",
            "MSE Linear:  3.5870632304549723e-28\n",
            "MSE SVR:  12.76330426481117\n",
            "MSE Forest:  1.4918095205952409\n",
            "\n",
            "\n",
            "MAE Linear:  1.2751704454266084e-14\n",
            "MAE SVR:  2.1943189904366687\n",
            "MAE Forest:  0.8608916666666679\n",
            "\n",
            "\n",
            "Teste\n",
            "R2 LR:  0.702728769134242\n",
            "R2 SVR:  0.49157324853160667\n",
            "R2 Forest:  0.5353960236374248\n",
            "\n",
            "\n",
            "MSE Linear:  6.282004993469175\n",
            "MSE SVR:  10.744192709923146\n",
            "MSE Forest:  9.818119604090903\n",
            "\n",
            "\n",
            "MAE Linear:  1.952614515088438\n",
            "MAE SVR:  2.3379131594193128\n",
            "MAE Forest:  2.1454772727272733\n"
          ]
        }
      ]
    },
    {
      "cell_type": "markdown",
      "metadata": {
        "id": "lGg-usJ4RJ_B"
      },
      "source": [
        "**Análise dos resultados de regressão**"
      ]
    },
    {
      "cell_type": "markdown",
      "metadata": {
        "id": "0q4wRZ2Q0vjb"
      },
      "source": [
        "**Análise Treino**"
      ]
    },
    {
      "cell_type": "markdown",
      "metadata": {
        "id": "DvfweoaVRN9I"
      },
      "source": [
        "LR"
      ]
    },
    {
      "cell_type": "code",
      "metadata": {
        "colab": {
          "base_uri": "https://localhost:8080/",
          "height": 279
        },
        "id": "clpYuK-b0x2h",
        "outputId": "655fba15-9308-4b83-c272-4fa8ef6f6e37"
      },
      "source": [
        "fig, ax = plt.subplots()\n",
        "ax.scatter(y_aug, lr.predict(X_aug), edgecolors=(0, 0, 0))\n",
        "ax.plot([y_aug.min(), y_aug.max()], [y_aug.min(), y_aug.max()], 'k--', lw=4)\n",
        "ax.set_xlabel('Measured')\n",
        "ax.set_ylabel('Predicted')\n",
        "plt.show()"
      ],
      "execution_count": 37,
      "outputs": [
        {
          "output_type": "display_data",
          "data": {
            "image/png": "[encoded data removed]",
            "text/plain": [
              "<Figure size 432x288 with 1 Axes>"
            ]
          },
          "metadata": {}
        }
      ]
    },
    {
      "cell_type": "markdown",
      "metadata": {
        "id": "stIEBkCKRSTh"
      },
      "source": [
        "SVR"
      ]
    },
    {
      "cell_type": "code",
      "metadata": {
        "colab": {
          "base_uri": "https://localhost:8080/",
          "height": 279
        },
        "id": "ocCughzn1MIj",
        "outputId": "40fa781d-884d-4342-9c4e-545198a0b480"
      },
      "source": [
        "fig, ax = plt.subplots()\n",
        "ax.scatter(y_treino, svr.predict(X_treino_std), edgecolors=(0, 0, 0))\n",
        "ax.plot([y_treino.min(), y_treino.max()], [y_treino.min(), y_treino.max()], 'k--', lw=4)\n",
        "ax.set_xlabel('Measured')\n",
        "ax.set_ylabel('Predicted')\n",
        "plt.show()"
      ],
      "execution_count": 38,
      "outputs": [
        {
          "output_type": "display_data",
          "data": {
            "image/png": "[encoded data removed]",
            "text/plain": [
              "<Figure size 432x288 with 1 Axes>"
            ]
          },
          "metadata": {}
        }
      ]
    },
    {
      "cell_type": "markdown",
      "metadata": {
        "id": "IZRLeZrBRUIF"
      },
      "source": [
        "RF"
      ]
    },
    {
      "cell_type": "code",
      "metadata": {
        "colab": {
          "base_uri": "https://localhost:8080/",
          "height": 279
        },
        "id": "yMNmjdQuP5sg",
        "outputId": "7721a2a8-fffe-487f-9345-28b9dfefa468"
      },
      "source": [
        "fig, ax = plt.subplots()\n",
        "ax.scatter(y_treino, forest.predict(X_treino_std), edgecolors=(0, 0, 0))\n",
        "ax.plot([y_treino.min(), y_treino.max()], [y_treino.min(), y_treino.max()], 'k--', lw=4)\n",
        "ax.set_xlabel('Measured')\n",
        "ax.set_ylabel('Predicted')\n",
        "plt.show()"
      ],
      "execution_count": 39,
      "outputs": [
        {
          "output_type": "display_data",
          "data": {
            "image/png": "[encoded data removed]",
            "text/plain": [
              "<Figure size 432x288 with 1 Axes>"
            ]
          },
          "metadata": {}
        }
      ]
    },
    {
      "cell_type": "markdown",
      "metadata": {
        "id": "x03LD4oB0tlq"
      },
      "source": [
        "**Análise Teste**"
      ]
    },
    {
      "cell_type": "markdown",
      "metadata": {
        "id": "hsLWgtrURX_U"
      },
      "source": [
        "LR"
      ]
    },
    {
      "cell_type": "code",
      "metadata": {
        "colab": {
          "base_uri": "https://localhost:8080/"
        },
        "id": "qYMRqDF1l7Dl",
        "outputId": "4f785dfe-b17c-4ca5-d7e3-0a2e43a62c7d"
      },
      "source": [
        "print(\"RDI predito LR: \",lr.predict(X_teste_std))"
      ],
      "execution_count": 40,
      "outputs": [
        {
          "output_type": "stream",
          "name": "stdout",
          "text": [
            "RDI predito LR:  [16.37792805 22.53748967 14.572128    7.71415668 12.86276855 12.71974435\n",
            " 12.34700058 12.0126484   9.7628632  17.52666568 15.99672367 18.27866465\n",
            " 17.41997071 18.88711448 14.83751825 12.79207086 14.54470582  8.70215117\n",
            " 25.76336763 14.99135818 13.1582687  15.7925305 ]\n"
          ]
        }
      ]
    },
    {
      "cell_type": "code",
      "metadata": {
        "colab": {
          "base_uri": "https://localhost:8080/"
        },
        "id": "n8XZU_-lmAhH",
        "outputId": "21196403-9f98-4c83-c664-0007dc4e243e"
      },
      "source": [
        "print(\"RDI real:\",y_teste.reshape(1,22))"
      ],
      "execution_count": 41,
      "outputs": [
        {
          "output_type": "stream",
          "name": "stdout",
          "text": [
            "RDI real: [[19.18 19.65 14.05 10.43 12.15 13.4  11.28 10.99 11.93 13.58 19.48 20.51\n",
            "  17.59 12.96 14.9  14.63 14.03  9.65 30.74 12.14 12.76 14.76]]\n"
          ]
        }
      ]
    },
    {
      "cell_type": "code",
      "metadata": {
        "colab": {
          "base_uri": "https://localhost:8080/"
        },
        "id": "H4bxGFwTprg1",
        "outputId": "e72e1c97-93e1-4d6d-83ef-536ce9744116"
      },
      "source": [
        "erro = lr.predict(X_teste_std) - y_teste.reshape(1,22)\n",
        "print(\"RDI real:\",abs(erro))"
      ],
      "execution_count": 42,
      "outputs": [
        {
          "output_type": "stream",
          "name": "stdout",
          "text": [
            "RDI real: [[2.80207195 2.88748967 0.522128   2.71584332 0.71276855 0.68025565\n",
            "  1.06700058 1.0226484  2.1671368  3.94666568 3.48327633 2.23133535\n",
            "  0.17002929 5.92711448 0.06248175 1.83792914 0.51470582 0.94784883\n",
            "  4.97663237 2.85135818 0.3982687  1.0325305 ]]\n"
          ]
        }
      ]
    },
    {
      "cell_type": "code",
      "metadata": {
        "colab": {
          "base_uri": "https://localhost:8080/"
        },
        "id": "kv2-YjNzqCEO",
        "outputId": "dee194d1-05dd-4db9-d531-773661bccae2"
      },
      "source": [
        "abs(erro).max()"
      ],
      "execution_count": 43,
      "outputs": [
        {
          "output_type": "execute_result",
          "data": {
            "text/plain": [
              "5.927114480161393"
            ]
          },
          "metadata": {},
          "execution_count": 43
        }
      ]
    },
    {
      "cell_type": "code",
      "metadata": {
        "colab": {
          "base_uri": "https://localhost:8080/"
        },
        "id": "_uPdTYJeqkhZ",
        "outputId": "651775dc-833f-4420-ac2e-fbc6cb2c3a28"
      },
      "source": [
        "abs(erro).min()"
      ],
      "execution_count": 44,
      "outputs": [
        {
          "output_type": "execute_result",
          "data": {
            "text/plain": [
              "0.062481748347908095"
            ]
          },
          "metadata": {},
          "execution_count": 44
        }
      ]
    },
    {
      "cell_type": "markdown",
      "metadata": {
        "id": "uxyz7RglQf5I"
      },
      "source": [
        "LR\n"
      ]
    },
    {
      "cell_type": "code",
      "metadata": {
        "colab": {
          "base_uri": "https://localhost:8080/",
          "height": 279
        },
        "id": "8PPrKar5U1N4",
        "outputId": "04b6581e-30ba-4088-dd9b-244a1d100b77"
      },
      "source": [
        "fig, ax = plt.subplots()\n",
        "ax.scatter(y_teste, lr.predict(X_teste_std), edgecolors=(0, 0, 0))\n",
        "ax.plot([y_teste.min(), y_teste.max()], [y_teste.min(), y_teste.max()], 'k--', lw=4)\n",
        "ax.set_xlabel('Measured')\n",
        "ax.set_ylabel('Predicted')\n",
        "plt.show()"
      ],
      "execution_count": 45,
      "outputs": [
        {
          "output_type": "display_data",
          "data": {
            "image/png": "[encoded data removed]",
            "text/plain": [
              "<Figure size 432x288 with 1 Axes>"
            ]
          },
          "metadata": {}
        }
      ]
    },
    {
      "cell_type": "markdown",
      "metadata": {
        "id": "GgP-HGvWQofa"
      },
      "source": [
        "SVR"
      ]
    },
    {
      "cell_type": "code",
      "metadata": {
        "colab": {
          "base_uri": "https://localhost:8080/",
          "height": 279
        },
        "id": "fiucClz5QfSz",
        "outputId": "6b4282ff-02e7-4248-b773-43d380e6958a"
      },
      "source": [
        "fig, ax = plt.subplots()\n",
        "ax.scatter(y_teste, svr.predict(X_teste_std), edgecolors=(0, 0, 0))\n",
        "ax.plot([y_teste.min(), y_teste.max()], [y_teste.min(), y_teste.max()], 'k--', lw=4)\n",
        "ax.set_xlabel('Measured')\n",
        "ax.set_ylabel('Predicted')\n",
        "plt.show()"
      ],
      "execution_count": 46,
      "outputs": [
        {
          "output_type": "display_data",
          "data": {
            "image/png": "[encoded data removed]",
            "text/plain": [
              "<Figure size 432x288 with 1 Axes>"
            ]
          },
          "metadata": {}
        }
      ]
    },
    {
      "cell_type": "markdown",
      "metadata": {
        "id": "3EWDAnWQSBxh"
      },
      "source": [
        "RF"
      ]
    },
    {
      "cell_type": "code",
      "metadata": {
        "colab": {
          "base_uri": "https://localhost:8080/",
          "height": 279
        },
        "id": "FCy7fXVkVlxO",
        "outputId": "20e698bd-e883-4c6a-cae2-030ea92baa99"
      },
      "source": [
        "fig, ax = plt.subplots()\n",
        "ax.scatter(y_teste, forest.predict(X_teste_std), edgecolors=(0, 0, 0))\n",
        "ax.plot([y_teste.min(), y_teste.max()], [y_teste.min(), y_teste.max()], 'k--', lw=4)\n",
        "ax.set_xlabel('Measured')\n",
        "ax.set_ylabel('Predicted')\n",
        "plt.show()"
      ],
      "execution_count": 47,
      "outputs": [
        {
          "output_type": "display_data",
          "data": {
            "image/png": "[encoded data removed]",
            "text/plain": [
              "<Figure size 432x288 with 1 Axes>"
            ]
          },
          "metadata": {}
        }
      ]
    }
  ]
}